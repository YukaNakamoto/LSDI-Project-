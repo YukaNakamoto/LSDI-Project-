{
 "cells": [
  {
   "cell_type": "code",
   "execution_count": 419,
   "id": "bb5fd1105f4f6c77",
   "metadata": {
    "ExecuteTime": {
     "end_time": "2024-12-18T20:52:23.499513Z",
     "start_time": "2024-12-18T20:52:23.173333Z"
    }
   },
   "outputs": [],
   "source": [
    "import numpy as np\n",
    "import pandas as pd\n",
    "from prophet import Prophet\n",
    "from sklearn.metrics import mean_squared_error\n",
    "from sklearn.metrics import mean_absolute_error\n",
    "from datetime import timedelta\n",
    "import matplotlib.pyplot as plt\n",
    "from sklearn.preprocessing import MinMaxScaler\n",
    "import itertools\n"
   ]
  },
  {
   "cell_type": "markdown",
   "id": "69b5aa62d4f18b3d",
   "metadata": {},
   "source": [
    "### The Prophet Model(only)\n",
    "\n"
   ]
  },
  {
   "cell_type": "code",
   "execution_count": null,
   "id": "39027addf809dc2f",
   "metadata": {
    "ExecuteTime": {
     "end_time": "2024-12-05T08:01:20.083708Z",
     "start_time": "2024-12-05T08:01:20.046471Z"
    }
   },
   "outputs": [],
   "source": [
    "energy_data = pd.read_csv('../../data/day_ahead_energy_prices.csv')\n",
    "energy_data['Datetime'] = pd.to_datetime(energy_data['Datetime']).dt.tz_localize(None)\n",
    "energy_data = energy_data.rename(columns={'Datetime': 'ds', 'hourly day-ahead energy price': 'y'})\n",
    "\n",
    "split_index = int(len(energy_data) * 0.82)\n",
    "mid_index = (len(energy_data) + split_index) // 2\n",
    "\n",
    "train_data, validation_data, test_data = energy_data[:split_index], energy_data[split_index:mid_index], energy_data[mid_index:]"
   ]
  },
  {
   "cell_type": "code",
   "execution_count": null,
   "id": "f3654db5",
   "metadata": {},
   "outputs": [],
   "source": [
    "# Initialize Prophet model\n",
    "model = Prophet()\n",
    "model.fit(train_data) \n",
    "\n",
    "future = test_data[['ds']]\n",
    "forecast = model.predict(future)\n",
    "\n",
    "# Result_df\n",
    "results_df = forecast.merge(test_data, on='ds', how='left')  # test_data has to include columns 'ds' and 'y'\n",
    "\n",
    "# Root Mean Squared Error (RMSE)\n",
    "mse = mean_squared_error(results_df['y'], results_df['yhat'])\n",
    "rmse = np.sqrt(mse)\n",
    "\n",
    "print(f\"Root Mean Squared Error (RMSE) for the test dataset: {rmse:.2f}\")"
   ]
  },
  {
   "cell_type": "code",
   "execution_count": null,
   "id": "7a9bf520",
   "metadata": {},
   "outputs": [],
   "source": [
    "plt.figure(figsize=(16, 6))\n",
    "plt.plot(results_df['ds'], results_df['y'], label='Actual Prices', color='blue', linewidth=2)\n",
    "plt.plot(results_df['ds'], results_df['yhat'], label='Forecasted Prices', color='red', linestyle='dashed', linewidth=2)\n",
    "plt.title(\"Actual vs Forecasted Energy Prices for Test Dataset\")\n",
    "plt.xlabel(\"Time\")\n",
    "plt.ylabel(\"Price\")\n",
    "plt.xticks(rotation=45)\n",
    "plt.legend(loc='upper left')\n",
    "plt.grid(True)\n",
    "plt.tight_layout()\n",
    "plt.show()"
   ]
  },
  {
   "cell_type": "markdown",
   "id": "66f39264",
   "metadata": {},
   "source": [
    "### Add Weather as regressor"
   ]
  },
  {
   "cell_type": "code",
   "execution_count": null,
   "id": "c808363f",
   "metadata": {},
   "outputs": [],
   "source": [
    "# Load energy and weather data\n",
    "energy_data = pd.read_csv('../../data/day_ahead_energy_prices.csv')\n",
    "energy_data['Datetime'] = pd.to_datetime(energy_data['Datetime']).dt.tz_localize(None)  # Convert to datetime and remove timezone\n",
    "energy_data = energy_data.rename(columns={'Datetime': 'ds', 'hourly day-ahead energy price': 'y'})  # Rename columns to match Prophet's expected column names\n",
    "\n",
    "weather_data = pd.read_csv('../../data/germany_weather_average.csv')  # Adjust file path if needed\n",
    "weather_data['date'] = pd.to_datetime(weather_data['date']).dt.tz_localize(None)\n",
    "weather_data.rename(columns={'date': 'ds'}, inplace=True)\n",
    "\n",
    "merged_data = pd.merge(energy_data, weather_data, on='ds', how='left')\n",
    "train_data, validation_data, test_data = merged_data[:split_index], merged_data[split_index:mid_index], merged_data[mid_index:]"
   ]
  },
  {
   "cell_type": "code",
   "execution_count": null,
   "id": "514366d4",
   "metadata": {},
   "outputs": [],
   "source": [
    "model = Prophet()\n",
    "\n",
    "weather_columns = [col for col in weather_data.columns if col != 'ds'] \n",
    "\n",
    "for col in weather_columns:\n",
    "    model.add_regressor(col)\n",
    "\n",
    "model.fit(train_data) \n",
    "future = test_data[['ds'] + weather_columns]\n",
    "\n",
    "# Generate forecast\n",
    "forecast = model.predict(future)\n",
    "results_df = forecast.merge(test_data, on='ds', how='left')\n",
    "\n",
    "# Calculate RMSE\n",
    "mse = mean_squared_error(results_df['y'], results_df['yhat'])\n",
    "rmse = np.sqrt(mse)\n",
    "\n",
    "print(f\"Root Mean Squared Error (RMSE): {rmse:.2f}\")"
   ]
  },
  {
   "cell_type": "markdown",
   "id": "e22fbfb9",
   "metadata": {},
   "source": [
    "#### + Add Energy Market Mix"
   ]
  },
  {
   "cell_type": "code",
   "execution_count": null,
   "id": "ded8ef42",
   "metadata": {},
   "outputs": [],
   "source": [
    "# Load data\n",
    "energy_data = pd.read_csv('../../data/day_ahead_energy_prices.csv')\n",
    "energy_data['Datetime'] = pd.to_datetime(energy_data['Datetime']).dt.tz_localize(None)  # Convert to datetime and remove timezone\n",
    "energy_data = energy_data.rename(columns={'Datetime': 'ds', 'hourly day-ahead energy price': 'y'})  # Rename columns to match Prophet's expected column names\n",
    "\n",
    "weather_data = pd.read_csv('../../data/germany_weather_average.csv')  # Adjust file path if needed\n",
    "weather_data['date'] = pd.to_datetime(weather_data['date']).dt.tz_localize(None)\n",
    "weather_data.rename(columns={'date': 'ds'}, inplace=True)\n",
    "\n",
    "market_mix = pd.read_csv('../../data/hourly_market_metrics_cleaned.csv')\n",
    "market_mix['Timestamp'] = pd.to_datetime(market_mix['Timestamp']).dt.tz_localize(None)\n",
    "market_mix.rename(columns={'Timestamp': 'ds'}, inplace=True)\n",
    "\n",
    "merged_data = pd.merge(energy_data, weather_data, on='ds', how='left')\n",
    "merged_data = pd.merge(market_mix, merged_data, on= 'ds' , how= 'left')\n",
    "train_data, validation_data, test_data = merged_data[:split_index], merged_data[split_index:mid_index], merged_data[mid_index:]\n"
   ]
  },
  {
   "cell_type": "code",
   "execution_count": null,
   "id": "55aae5dd",
   "metadata": {},
   "outputs": [],
   "source": [
    "model = Prophet()\n",
    "\n",
    "# Add all columns except 'ds' and 'y' as regressors\n",
    "columns = [col for col in merged_data.columns if col not in ['ds', 'y']] \n",
    "\n",
    "for col in columns:\n",
    "    model.add_regressor(col)\n",
    "\n",
    "# Fit the model with training data\n",
    "model.fit(train_data) \n",
    "\n",
    "future = test_data[['ds'] + columns] # not taking y\n",
    "forecast = model.predict(future)\n",
    "\n",
    "results_df = forecast[['ds', 'yhat']].merge(test_data[['ds', 'y']], on='ds', how='left')\n",
    "\n",
    "# Calculate RMSE\n",
    "mse = mean_squared_error(results_df['y'], results_df['yhat'])\n",
    "rmse = np.sqrt(mse)\n",
    "\n",
    "print(f\"Root Mean Squared Error (RMSE): {rmse:.2f}\")"
   ]
  },
  {
   "cell_type": "code",
   "execution_count": null,
   "id": "dc5b8cc1",
   "metadata": {},
   "outputs": [],
   "source": [
    "# Plot forecast and actual values\n",
    "plt.figure(figsize=(16, 6))\n",
    "plt.plot(results_df['ds'], results_df['y'], label='Actual Prices', color='blue', linewidth=2)\n",
    "plt.plot(results_df['ds'], results_df['yhat'], label='Forecasted Prices', color='red', linestyle='dashed', linewidth=2)\n",
    "plt.title(\"Actual vs Forecasted Energy Prices for Test Dataset\")\n",
    "plt.xlabel(\"Time\")\n",
    "plt.ylabel(\"Price\")\n",
    "plt.xticks(rotation=45)\n",
    "plt.legend(loc='upper left')\n",
    "plt.grid(True)\n",
    "plt.tight_layout()\n",
    "plt.show()"
   ]
  },
  {
   "cell_type": "markdown",
   "id": "333f84e933b92217",
   "metadata": {},
   "source": [
    "### Create Moving Average Features\n"
   ]
  },
  {
   "cell_type": "code",
   "execution_count": 390,
   "id": "1b1f7a77",
   "metadata": {},
   "outputs": [],
   "source": [
    "# Load data\n",
    "energy_data = pd.read_csv('../../data/day_ahead_energy_prices.csv')\n",
    "energy_data['Datetime'] = pd.to_datetime(energy_data['Datetime']).dt.tz_localize(None)  # Convert to datetime and remove timezone\n",
    "energy_data = energy_data.rename(columns={'Datetime': 'ds', 'hourly day-ahead energy price': 'y'})  # Rename columns to match Prophet's expected column names\n",
    "\n",
    "weather_data = pd.read_csv('../../data/germany_weather_average.csv')  # Adjust file path if needed\n",
    "weather_data['date'] = pd.to_datetime(weather_data['date']).dt.tz_localize(None)\n",
    "weather_data.rename(columns={'date': 'ds'}, inplace=True)\n",
    "\n",
    "market_mix = pd.read_csv('../../data/hourly_market_mix_cleaned.csv')\n",
    "market_mix['Timestamp'] = pd.to_datetime(market_mix['Timestamp']).dt.tz_localize(None)\n",
    "market_mix.rename(columns={'Timestamp': 'ds'}, inplace=True)\n",
    "\n",
    "merged_data = pd.merge(energy_data, weather_data, on='ds', how='left')\n",
    "merged_data = pd.merge(market_mix, merged_data, on= 'ds' , how= 'left')"
   ]
  },
  {
   "cell_type": "code",
   "execution_count": 396,
   "id": "8d20c2f3",
   "metadata": {},
   "outputs": [
    {
     "data": {
      "text/plain": [
       "0"
      ]
     },
     "execution_count": 396,
     "metadata": {},
     "output_type": "execute_result"
    }
   ],
   "source": [
    "merged_data['weekofyear'].isnull().sum()"
   ]
  },
  {
   "cell_type": "code",
   "execution_count": 391,
   "id": "f48a2a28",
   "metadata": {},
   "outputs": [],
   "source": [
    "def create_features(df, include_target=True):\n",
    "    df = df.copy()\n",
    "\n",
    "    # Extract temporal features\n",
    "    df['hour'] = df['ds'].dt.hour\n",
    "    df['dayofweek'] = df['ds'].dt.dayofweek\n",
    "    df['dayofyear'] = df['ds'].dt.dayofyear\n",
    "    df['weekofyear'] = df['ds'].dt.isocalendar().week\n",
    "\n",
    "    if include_target:\n",
    "        # Moving averages for hours (if 'y' is available)\n",
    "        for window in range(2, 24):  # Using range for hours from 2 to 23\n",
    "            df[f'ma_{int(window)}_hours'] = df['y'].rolling(window=window).mean()\n",
    "\n",
    "        # Moving averages for days (1 day, 3 days, 1 week)\n",
    "        for window in [24, 72, 168]:  # Corresponding to 1 day, 3 days, 7 days\n",
    "            df[f'ma_{int(window / 24)}_days'] = df['y'].rolling(window=window).mean()\n",
    "\n",
    "        # Moving averages for months (assuming 30 days per month)\n",
    "        for window in [1, 2, 3]:  # 1 month, 2 months, 3 months\n",
    "            hours_in_month = window * 30 * 24\n",
    "            df[f'ma_{int(window)}_month'] = df['y'].rolling(window=hours_in_month).mean()\n",
    "\n",
    "        # Rolling averages for selected energy-related columns\n",
    "        energy_columns = [col for col in merged_data.columns if col not in ['ds', 'y']]\n",
    "\n",
    "        for window in [3, 6, 12]:  # 3, 6, and 12 hours\n",
    "            for col in energy_columns:\n",
    "                df[f'{col}_ma_{int(window)}_hours'] = df[col].rolling(window=window).mean()\n",
    "\n",
    "        # Fill NaN values in moving averages with interpolation or medians\n",
    "        for column in df.columns:\n",
    "            if 'ma_' in column:  # Apply only to moving average columns\n",
    "                df[column] = df[column].interpolate(method='linear').fillna(df[column].median())\n",
    "\n",
    "    return df\n",
    "\n",
    "merged_data = create_features(merged_data)\n",
    "train_data, validation_data, test_data = merged_data[:split_index], merged_data[split_index:mid_index], merged_data[mid_index:]\n",
    "energy_columns = [col for col in merged_data.columns if col not in ['ds', 'y']]\n",
    "\n"
   ]
  },
  {
   "cell_type": "code",
   "execution_count": null,
   "id": "2333be99",
   "metadata": {},
   "outputs": [],
   "source": [
    "#  Regressors: ['dayofweek', 'dayofyear', 'ma_2_hours', 'ma_3_hours', 'ma_4_hours', \n",
    "# 'ma_8_hours', 'ma_9_hours', 'ma_10_hours', 'ma_11_hours',\n",
    "#  'ma_20_hours', 'ma_21_hours', 'ma_22_hours', 'ma_23_hours', 'Hydro', 'Nuclear']"
   ]
  },
  {
   "cell_type": "code",
   "execution_count": 422,
   "id": "02e8e466",
   "metadata": {},
   "outputs": [
    {
     "name": "stderr",
     "output_type": "stream",
     "text": [
      "22:15:44 - cmdstanpy - INFO - Chain [1] start processing\n",
      "22:16:05 - cmdstanpy - INFO - Chain [1] done processing\n"
     ]
    },
    {
     "name": "stdout",
     "output_type": "stream",
     "text": [
      "Mean Absolute Error (MAE): 4.21\n",
      "Root Mean Squared Error (RMSE): 7.41\n"
     ]
    }
   ],
   "source": [
    "model = Prophet()\n",
    "\n",
    "# Add time-based regressors\n",
    "model.add_regressor('dayofweek')\n",
    "model.add_regressor('dayofyear')\n",
    "\n",
    "# Add moving average regressors\n",
    "model.add_regressor('hour')\n",
    "model.add_regressor('ma_2_hours') \n",
    "model.add_regressor('ma_3_hours')  \n",
    "model.add_regressor('ma_4_hours')\n",
    "model.add_regressor('ma_5_hours')\n",
    "model.add_regressor('ma_6_hours')\n",
    "model.add_regressor('ma_7_hours')\n",
    "model.add_regressor('ma_8_hours')\n",
    "model.add_regressor('ma_9_hours')\n",
    "\n",
    "model.add_regressor('ma_1_days')\n",
    "# model.add_regressor('ma_3_days')\n",
    "model.add_regressor('ma_7_days')\n",
    "\n",
    "\n",
    "model.add_regressor('Biomass') \n",
    "model.add_regressor('Hard Coal')\n",
    "model.add_regressor('Hydro')\n",
    "# model.add_regressor('Lignite')\n",
    "# model.add_regressor('Natural Gas')\n",
    "model.add_regressor('Nuclear')\n",
    "# model.add_regressor('Other')\n",
    "model.add_regressor('Pumped storage generation')\n",
    "model.add_regressor('Solar')\n",
    "model.add_regressor('Wind offshore')\n",
    "model.add_regressor('Wind onshore')\n",
    "\n",
    "# Add regressors for the provided columns\n",
    "model.add_regressor('temperature_2m')\n",
    "model.add_regressor('Precipitation (rain/snow)')\n",
    "model.add_regressor('wind_speed_100m')\n",
    "# model.add_regressor('direct_radiation')\n",
    "\n",
    "# model.add_regressor('ma_10_hours')\n",
    "# model.add_regressor('ma_11_hours')\n",
    "# model.add_regressor('ma_12_hours')\n",
    "# model.add_regressor('ma_13_hours')\n",
    "# model.add_regressor('ma_14_hours')\n",
    "# model.add_regressor('ma_15_hours')\n",
    "# model.add_regressor('ma_16_hours')\n",
    "# model.add_regressor('ma_17_hours')\n",
    "# model.add_regressor('ma_18_hours')\n",
    "# model.add_regressor('ma_19_hours')\n",
    "# model.add_regressor('ma_20_hours')\n",
    "# model.add_regressor('ma_21_hours')\n",
    "# model.add_regressor('ma_22_hours')\n",
    "# model.add_regressor('ma_23_hours')\n",
    "\n",
    "\n",
    "model.fit(train_data)\n",
    "\n",
    "future = test_data[['ds'] + energy_columns]\n",
    "forecast = model.predict(future)\n",
    "\n",
    "results_df = forecast.merge(test_data, on='ds', how='left')\n",
    "\n",
    "# Calculate RMSE\n",
    "mae = mean_absolute_error(results_df['y'], results_df['yhat'])\n",
    "print(f\"Mean Absolute Error (MAE): {mae:.2f}\")\n",
    "\n",
    "mse = mean_squared_error(results_df['y'], results_df['yhat'])\n",
    "rmse = np.sqrt(mse)\n",
    "print(f\"Root Mean Squared Error (RMSE): {rmse:.2f}\")\n"
   ]
  },
  {
   "cell_type": "markdown",
   "id": "c8589037",
   "metadata": {},
   "source": [
    "##### Find the best"
   ]
  },
  {
   "cell_type": "code",
   "execution_count": 421,
   "id": "366f2a74",
   "metadata": {},
   "outputs": [
    {
     "name": "stderr",
     "output_type": "stream",
     "text": [
      "21:48:19 - cmdstanpy - INFO - Chain [1] start processing\n",
      "21:49:22 - cmdstanpy - INFO - Chain [1] done processing\n"
     ]
    },
    {
     "name": "stdout",
     "output_type": "stream",
     "text": [
      "Regressor: dayofweek | RMSE: 105.82\n",
      "Regressor 'dayofweek' improves RMSE. Keeping it active.\n"
     ]
    },
    {
     "name": "stderr",
     "output_type": "stream",
     "text": [
      "21:49:26 - cmdstanpy - INFO - Chain [1] start processing\n",
      "21:51:37 - cmdstanpy - INFO - Chain [1] done processing\n"
     ]
    },
    {
     "name": "stdout",
     "output_type": "stream",
     "text": [
      "Regressor: dayofyear | RMSE: 95.48\n",
      "Regressor 'dayofyear' improves RMSE. Keeping it active.\n"
     ]
    },
    {
     "name": "stderr",
     "output_type": "stream",
     "text": [
      "21:51:41 - cmdstanpy - INFO - Chain [1] start processing\n",
      "21:53:24 - cmdstanpy - INFO - Chain [1] done processing\n"
     ]
    },
    {
     "name": "stdout",
     "output_type": "stream",
     "text": [
      "Regressor: hour | RMSE: 96.12\n",
      "Regressor 'hour' does not improve RMSE. Discarding it.\n"
     ]
    },
    {
     "name": "stderr",
     "output_type": "stream",
     "text": [
      "21:53:30 - cmdstanpy - INFO - Chain [1] start processing\n",
      "21:53:45 - cmdstanpy - INFO - Chain [1] done processing\n"
     ]
    },
    {
     "name": "stdout",
     "output_type": "stream",
     "text": [
      "Regressor: ma_2_hours | RMSE: 9.74\n",
      "Regressor 'ma_2_hours' improves RMSE. Keeping it active.\n"
     ]
    },
    {
     "name": "stderr",
     "output_type": "stream",
     "text": [
      "21:53:51 - cmdstanpy - INFO - Chain [1] start processing\n",
      "21:54:17 - cmdstanpy - INFO - Chain [1] done processing\n"
     ]
    },
    {
     "name": "stdout",
     "output_type": "stream",
     "text": [
      "Regressor: ma_3_hours | RMSE: 7.87\n",
      "Regressor 'ma_3_hours' improves RMSE. Keeping it active.\n"
     ]
    },
    {
     "name": "stderr",
     "output_type": "stream",
     "text": [
      "21:54:20 - cmdstanpy - INFO - Chain [1] start processing\n",
      "21:54:44 - cmdstanpy - INFO - Chain [1] done processing\n"
     ]
    },
    {
     "name": "stdout",
     "output_type": "stream",
     "text": [
      "Regressor: ma_4_hours | RMSE: 7.57\n",
      "Regressor 'ma_4_hours' improves RMSE. Keeping it active.\n"
     ]
    },
    {
     "name": "stderr",
     "output_type": "stream",
     "text": [
      "21:54:49 - cmdstanpy - INFO - Chain [1] start processing\n",
      "21:55:14 - cmdstanpy - INFO - Chain [1] done processing\n"
     ]
    },
    {
     "name": "stdout",
     "output_type": "stream",
     "text": [
      "Regressor: ma_5_hours | RMSE: 7.62\n",
      "Regressor 'ma_5_hours' does not improve RMSE. Discarding it.\n"
     ]
    },
    {
     "name": "stderr",
     "output_type": "stream",
     "text": [
      "21:55:18 - cmdstanpy - INFO - Chain [1] start processing\n",
      "21:55:42 - cmdstanpy - INFO - Chain [1] done processing\n"
     ]
    },
    {
     "name": "stdout",
     "output_type": "stream",
     "text": [
      "Regressor: ma_6_hours | RMSE: 7.61\n",
      "Regressor 'ma_6_hours' does not improve RMSE. Discarding it.\n"
     ]
    },
    {
     "name": "stderr",
     "output_type": "stream",
     "text": [
      "21:55:45 - cmdstanpy - INFO - Chain [1] start processing\n",
      "21:56:11 - cmdstanpy - INFO - Chain [1] done processing\n"
     ]
    },
    {
     "name": "stdout",
     "output_type": "stream",
     "text": [
      "Regressor: ma_7_hours | RMSE: 7.58\n",
      "Regressor 'ma_7_hours' does not improve RMSE. Discarding it.\n"
     ]
    },
    {
     "name": "stderr",
     "output_type": "stream",
     "text": [
      "21:56:15 - cmdstanpy - INFO - Chain [1] start processing\n",
      "21:56:38 - cmdstanpy - INFO - Chain [1] done processing\n"
     ]
    },
    {
     "name": "stdout",
     "output_type": "stream",
     "text": [
      "Regressor: ma_8_hours | RMSE: 7.57\n",
      "Regressor 'ma_8_hours' improves RMSE. Keeping it active.\n"
     ]
    },
    {
     "name": "stderr",
     "output_type": "stream",
     "text": [
      "21:56:43 - cmdstanpy - INFO - Chain [1] start processing\n",
      "21:57:06 - cmdstanpy - INFO - Chain [1] done processing\n"
     ]
    },
    {
     "name": "stdout",
     "output_type": "stream",
     "text": [
      "Regressor: ma_9_hours | RMSE: 7.50\n",
      "Regressor 'ma_9_hours' improves RMSE. Keeping it active.\n"
     ]
    },
    {
     "name": "stderr",
     "output_type": "stream",
     "text": [
      "21:57:12 - cmdstanpy - INFO - Chain [1] start processing\n",
      "21:57:32 - cmdstanpy - INFO - Chain [1] done processing\n"
     ]
    },
    {
     "name": "stdout",
     "output_type": "stream",
     "text": [
      "Regressor: ma_10_hours | RMSE: 7.49\n",
      "Regressor 'ma_10_hours' improves RMSE. Keeping it active.\n"
     ]
    },
    {
     "name": "stderr",
     "output_type": "stream",
     "text": [
      "21:57:36 - cmdstanpy - INFO - Chain [1] start processing\n",
      "21:58:08 - cmdstanpy - INFO - Chain [1] done processing\n"
     ]
    },
    {
     "name": "stdout",
     "output_type": "stream",
     "text": [
      "Regressor: ma_11_hours | RMSE: 7.48\n",
      "Regressor 'ma_11_hours' improves RMSE. Keeping it active.\n"
     ]
    },
    {
     "name": "stderr",
     "output_type": "stream",
     "text": [
      "21:58:12 - cmdstanpy - INFO - Chain [1] start processing\n",
      "21:58:44 - cmdstanpy - INFO - Chain [1] done processing\n"
     ]
    },
    {
     "name": "stdout",
     "output_type": "stream",
     "text": [
      "Regressor: ma_14_hours | RMSE: 7.50\n",
      "Regressor 'ma_14_hours' does not improve RMSE. Discarding it.\n"
     ]
    },
    {
     "name": "stderr",
     "output_type": "stream",
     "text": [
      "21:58:48 - cmdstanpy - INFO - Chain [1] start processing\n",
      "21:59:13 - cmdstanpy - INFO - Chain [1] done processing\n"
     ]
    },
    {
     "name": "stdout",
     "output_type": "stream",
     "text": [
      "Regressor: ma_15_hours | RMSE: 7.52\n",
      "Regressor 'ma_15_hours' does not improve RMSE. Discarding it.\n"
     ]
    },
    {
     "name": "stderr",
     "output_type": "stream",
     "text": [
      "21:59:17 - cmdstanpy - INFO - Chain [1] start processing\n",
      "21:59:44 - cmdstanpy - INFO - Chain [1] done processing\n"
     ]
    },
    {
     "name": "stdout",
     "output_type": "stream",
     "text": [
      "Regressor: ma_16_hours | RMSE: 7.53\n",
      "Regressor 'ma_16_hours' does not improve RMSE. Discarding it.\n"
     ]
    },
    {
     "name": "stderr",
     "output_type": "stream",
     "text": [
      "21:59:48 - cmdstanpy - INFO - Chain [1] start processing\n",
      "22:00:10 - cmdstanpy - INFO - Chain [1] done processing\n"
     ]
    },
    {
     "name": "stdout",
     "output_type": "stream",
     "text": [
      "Regressor: ma_17_hours | RMSE: 7.51\n",
      "Regressor 'ma_17_hours' does not improve RMSE. Discarding it.\n"
     ]
    },
    {
     "name": "stderr",
     "output_type": "stream",
     "text": [
      "22:00:15 - cmdstanpy - INFO - Chain [1] start processing\n",
      "22:00:35 - cmdstanpy - INFO - Chain [1] done processing\n"
     ]
    },
    {
     "name": "stdout",
     "output_type": "stream",
     "text": [
      "Regressor: ma_18_hours | RMSE: 7.49\n",
      "Regressor 'ma_18_hours' does not improve RMSE. Discarding it.\n"
     ]
    },
    {
     "name": "stderr",
     "output_type": "stream",
     "text": [
      "22:00:39 - cmdstanpy - INFO - Chain [1] start processing\n",
      "22:00:59 - cmdstanpy - INFO - Chain [1] done processing\n"
     ]
    },
    {
     "name": "stdout",
     "output_type": "stream",
     "text": [
      "Regressor: ma_19_hours | RMSE: 7.48\n",
      "Regressor 'ma_19_hours' does not improve RMSE. Discarding it.\n"
     ]
    },
    {
     "name": "stderr",
     "output_type": "stream",
     "text": [
      "22:01:03 - cmdstanpy - INFO - Chain [1] start processing\n",
      "22:01:28 - cmdstanpy - INFO - Chain [1] done processing\n"
     ]
    },
    {
     "name": "stdout",
     "output_type": "stream",
     "text": [
      "Regressor: ma_20_hours | RMSE: 7.47\n",
      "Regressor 'ma_20_hours' improves RMSE. Keeping it active.\n"
     ]
    },
    {
     "name": "stderr",
     "output_type": "stream",
     "text": [
      "22:01:33 - cmdstanpy - INFO - Chain [1] start processing\n",
      "22:01:54 - cmdstanpy - INFO - Chain [1] done processing\n"
     ]
    },
    {
     "name": "stdout",
     "output_type": "stream",
     "text": [
      "Regressor: ma_21_hours | RMSE: 7.35\n",
      "Regressor 'ma_21_hours' improves RMSE. Keeping it active.\n"
     ]
    },
    {
     "name": "stderr",
     "output_type": "stream",
     "text": [
      "22:01:58 - cmdstanpy - INFO - Chain [1] start processing\n",
      "22:02:30 - cmdstanpy - INFO - Chain [1] done processing\n"
     ]
    },
    {
     "name": "stdout",
     "output_type": "stream",
     "text": [
      "Regressor: ma_22_hours | RMSE: 7.35\n",
      "Regressor 'ma_22_hours' improves RMSE. Keeping it active.\n"
     ]
    },
    {
     "name": "stderr",
     "output_type": "stream",
     "text": [
      "22:02:35 - cmdstanpy - INFO - Chain [1] start processing\n",
      "22:02:56 - cmdstanpy - INFO - Chain [1] done processing\n"
     ]
    },
    {
     "name": "stdout",
     "output_type": "stream",
     "text": [
      "Regressor: ma_23_hours | RMSE: 7.33\n",
      "Regressor 'ma_23_hours' improves RMSE. Keeping it active.\n"
     ]
    },
    {
     "name": "stderr",
     "output_type": "stream",
     "text": [
      "22:03:01 - cmdstanpy - INFO - Chain [1] start processing\n",
      "22:03:27 - cmdstanpy - INFO - Chain [1] done processing\n"
     ]
    },
    {
     "name": "stdout",
     "output_type": "stream",
     "text": [
      "Regressor: ma_12_hours | RMSE: 7.33\n",
      "Regressor 'ma_12_hours' does not improve RMSE. Discarding it.\n"
     ]
    },
    {
     "name": "stderr",
     "output_type": "stream",
     "text": [
      "22:03:31 - cmdstanpy - INFO - Chain [1] start processing\n",
      "22:03:50 - cmdstanpy - INFO - Chain [1] done processing\n"
     ]
    },
    {
     "name": "stdout",
     "output_type": "stream",
     "text": [
      "Regressor: ma_13_hours | RMSE: 7.33\n",
      "Regressor 'ma_13_hours' does not improve RMSE. Discarding it.\n"
     ]
    },
    {
     "name": "stderr",
     "output_type": "stream",
     "text": [
      "22:03:54 - cmdstanpy - INFO - Chain [1] start processing\n",
      "22:04:14 - cmdstanpy - INFO - Chain [1] done processing\n"
     ]
    },
    {
     "name": "stdout",
     "output_type": "stream",
     "text": [
      "Regressor: Biomass | RMSE: 7.36\n",
      "Regressor 'Biomass' does not improve RMSE. Discarding it.\n"
     ]
    },
    {
     "name": "stderr",
     "output_type": "stream",
     "text": [
      "22:04:18 - cmdstanpy - INFO - Chain [1] start processing\n",
      "22:04:45 - cmdstanpy - INFO - Chain [1] done processing\n"
     ]
    },
    {
     "name": "stdout",
     "output_type": "stream",
     "text": [
      "Regressor: Hard Coal | RMSE: 7.33\n",
      "Regressor 'Hard Coal' does not improve RMSE. Discarding it.\n"
     ]
    },
    {
     "name": "stderr",
     "output_type": "stream",
     "text": [
      "22:04:49 - cmdstanpy - INFO - Chain [1] start processing\n",
      "22:05:15 - cmdstanpy - INFO - Chain [1] done processing\n"
     ]
    },
    {
     "name": "stdout",
     "output_type": "stream",
     "text": [
      "Regressor: Hydro | RMSE: 7.31\n",
      "Regressor 'Hydro' improves RMSE. Keeping it active.\n"
     ]
    },
    {
     "name": "stderr",
     "output_type": "stream",
     "text": [
      "22:05:19 - cmdstanpy - INFO - Chain [1] start processing\n",
      "22:05:54 - cmdstanpy - INFO - Chain [1] done processing\n"
     ]
    },
    {
     "name": "stdout",
     "output_type": "stream",
     "text": [
      "Regressor: Lignite | RMSE: 7.32\n",
      "Regressor 'Lignite' does not improve RMSE. Discarding it.\n"
     ]
    },
    {
     "name": "stderr",
     "output_type": "stream",
     "text": [
      "22:06:02 - cmdstanpy - INFO - Chain [1] start processing\n",
      "22:06:26 - cmdstanpy - INFO - Chain [1] done processing\n"
     ]
    },
    {
     "name": "stdout",
     "output_type": "stream",
     "text": [
      "Regressor: Natural Gas | RMSE: 7.35\n",
      "Regressor 'Natural Gas' does not improve RMSE. Discarding it.\n"
     ]
    },
    {
     "name": "stderr",
     "output_type": "stream",
     "text": [
      "22:06:33 - cmdstanpy - INFO - Chain [1] start processing\n",
      "22:07:01 - cmdstanpy - INFO - Chain [1] done processing\n"
     ]
    },
    {
     "name": "stdout",
     "output_type": "stream",
     "text": [
      "Regressor: Nuclear | RMSE: 7.30\n",
      "Regressor 'Nuclear' improves RMSE. Keeping it active.\n"
     ]
    },
    {
     "name": "stderr",
     "output_type": "stream",
     "text": [
      "22:07:08 - cmdstanpy - INFO - Chain [1] start processing\n",
      "22:07:36 - cmdstanpy - INFO - Chain [1] done processing\n"
     ]
    },
    {
     "name": "stdout",
     "output_type": "stream",
     "text": [
      "Regressor: Other | RMSE: 7.33\n",
      "Regressor 'Other' does not improve RMSE. Discarding it.\n"
     ]
    },
    {
     "name": "stderr",
     "output_type": "stream",
     "text": [
      "22:07:40 - cmdstanpy - INFO - Chain [1] start processing\n",
      "22:08:05 - cmdstanpy - INFO - Chain [1] done processing\n"
     ]
    },
    {
     "name": "stdout",
     "output_type": "stream",
     "text": [
      "Regressor: Pumped storage generation | RMSE: 7.30\n",
      "Regressor 'Pumped storage generation' does not improve RMSE. Discarding it.\n"
     ]
    },
    {
     "name": "stderr",
     "output_type": "stream",
     "text": [
      "22:08:09 - cmdstanpy - INFO - Chain [1] start processing\n",
      "22:08:36 - cmdstanpy - INFO - Chain [1] done processing\n"
     ]
    },
    {
     "name": "stdout",
     "output_type": "stream",
     "text": [
      "Regressor: Solar | RMSE: 7.31\n",
      "Regressor 'Solar' does not improve RMSE. Discarding it.\n"
     ]
    },
    {
     "name": "stderr",
     "output_type": "stream",
     "text": [
      "22:08:40 - cmdstanpy - INFO - Chain [1] start processing\n",
      "22:09:13 - cmdstanpy - INFO - Chain [1] done processing\n"
     ]
    },
    {
     "name": "stdout",
     "output_type": "stream",
     "text": [
      "Regressor: Wind offshore | RMSE: 7.30\n",
      "Regressor 'Wind offshore' does not improve RMSE. Discarding it.\n"
     ]
    },
    {
     "name": "stderr",
     "output_type": "stream",
     "text": [
      "22:09:19 - cmdstanpy - INFO - Chain [1] start processing\n",
      "22:09:46 - cmdstanpy - INFO - Chain [1] done processing\n"
     ]
    },
    {
     "name": "stdout",
     "output_type": "stream",
     "text": [
      "Regressor: Wind onshore | RMSE: 7.32\n",
      "Regressor 'Wind onshore' does not improve RMSE. Discarding it.\n"
     ]
    },
    {
     "name": "stderr",
     "output_type": "stream",
     "text": [
      "22:09:50 - cmdstanpy - INFO - Chain [1] start processing\n",
      "22:10:15 - cmdstanpy - INFO - Chain [1] done processing\n"
     ]
    },
    {
     "name": "stdout",
     "output_type": "stream",
     "text": [
      "Regressor: temperature_2m | RMSE: 7.31\n",
      "Regressor 'temperature_2m' does not improve RMSE. Discarding it.\n"
     ]
    },
    {
     "name": "stderr",
     "output_type": "stream",
     "text": [
      "22:10:22 - cmdstanpy - INFO - Chain [1] start processing\n",
      "22:10:49 - cmdstanpy - INFO - Chain [1] done processing\n"
     ]
    },
    {
     "name": "stdout",
     "output_type": "stream",
     "text": [
      "Regressor: Precipitation (rain/snow) | RMSE: 7.31\n",
      "Regressor 'Precipitation (rain/snow)' does not improve RMSE. Discarding it.\n"
     ]
    },
    {
     "name": "stderr",
     "output_type": "stream",
     "text": [
      "22:10:56 - cmdstanpy - INFO - Chain [1] start processing\n",
      "22:11:24 - cmdstanpy - INFO - Chain [1] done processing\n"
     ]
    },
    {
     "name": "stdout",
     "output_type": "stream",
     "text": [
      "Regressor: wind_speed_100m | RMSE: 7.34\n",
      "Regressor 'wind_speed_100m' does not improve RMSE. Discarding it.\n"
     ]
    },
    {
     "name": "stderr",
     "output_type": "stream",
     "text": [
      "22:11:29 - cmdstanpy - INFO - Chain [1] start processing\n",
      "22:12:00 - cmdstanpy - INFO - Chain [1] done processing\n"
     ]
    },
    {
     "name": "stdout",
     "output_type": "stream",
     "text": [
      "Regressor: direct_radiation | RMSE: 7.31\n",
      "Regressor 'direct_radiation' does not improve RMSE. Discarding it.\n",
      "\n",
      "Best RMSE: 7.30\n",
      "Active Regressors: ['dayofweek', 'dayofyear', 'ma_2_hours', 'ma_3_hours', 'ma_4_hours', 'ma_8_hours', 'ma_9_hours', 'ma_10_hours', 'ma_11_hours', 'ma_20_hours', 'ma_21_hours', 'ma_22_hours', 'ma_23_hours', 'Hydro', 'Nuclear']\n"
     ]
    }
   ],
   "source": [
    "# Define the list of all possible regressors\n",
    "all_regressors = [\n",
    "    'dayofweek', 'dayofyear', 'hour', 'ma_2_hours', 'ma_3_hours',\n",
    "    'ma_4_hours', 'ma_5_hours', 'ma_6_hours', 'ma_7_hours', 'ma_8_hours', 'ma_9_hours', 'ma_10_hours', 'ma_11_hours', \n",
    "    'ma_12_hours', 'ma_13_hours', 'ma_14_hours', 'ma_15_hours', 'ma_16_hours', 'ma_17_hours', 'ma_18_hours', 'ma_19_hours',\n",
    "    'ma_20_hours', 'ma_21_hours', 'ma_22_hours', 'ma_23_hours',\n",
    "    \n",
    "    'Biomass', 'Hard Coal', 'Hydro', 'Lignite', 'Natural Gas', 'Nuclear',\n",
    "    'Other', 'Pumped storage generation', 'Solar', 'Wind offshore', 'Wind onshore', \n",
    "    \n",
    "    'temperature_2m', 'Precipitation (rain/snow)',\n",
    "    'wind_speed_100m', 'direct_radiation'\n",
    "]\n",
    "\n",
    "# Initialize variables to track the best RMSE and regressors\n",
    "best_rmse = float('inf')\n",
    "active_regressors = []\n",
    "\n",
    "# Iterate over all regressors\n",
    "for regressor in all_regressors:\n",
    "    try:\n",
    "        # Initialize a new Prophet model\n",
    "        model = Prophet()\n",
    "\n",
    "        # Add currently active regressors\n",
    "        for active_regressor in active_regressors:\n",
    "            model.add_regressor(active_regressor)\n",
    "\n",
    "        # Temporarily add the new regressor\n",
    "        model.add_regressor(regressor)\n",
    "\n",
    "        # Fit the model with training data\n",
    "        model.fit(train_data)\n",
    "\n",
    "        # Prepare future dataframe with active regressors\n",
    "        future = test_data[['ds'] + active_regressors + [regressor]]\n",
    "\n",
    "        # Generate forecast\n",
    "        forecast = model.predict(future)\n",
    "\n",
    "        # Merge forecast with test data for evaluation\n",
    "        results_df = forecast.merge(test_data, on='ds', how='left')\n",
    "\n",
    "        # Calculate RMSE\n",
    "        mse = mean_squared_error(results_df['y'], results_df['yhat'])\n",
    "        rmse = np.sqrt(mse)\n",
    "\n",
    "        print(f\"Regressor: {regressor} | RMSE: {rmse:.2f}\")\n",
    "\n",
    "        # Check if the new regressor improves RMSE\n",
    "        if rmse < best_rmse:\n",
    "            best_rmse = rmse\n",
    "            active_regressors.append(regressor)  # Keep this regressor active\n",
    "            print(f\"Regressor '{regressor}' improves RMSE. Keeping it active.\")\n",
    "        else:\n",
    "            print(f\"Regressor '{regressor}' does not improve RMSE. Discarding it.\")\n",
    "\n",
    "    except Exception as e:\n",
    "        print(f\"Error with regressor '{regressor}': {e}\")\n",
    "\n",
    "# Final list of active regressors\n",
    "print(f\"\\nBest RMSE: {best_rmse:.2f}\")\n",
    "print(f\"Active Regressors: {active_regressors}\")\n"
   ]
  },
  {
   "cell_type": "code",
   "execution_count": 424,
   "id": "02793de9",
   "metadata": {},
   "outputs": [
    {
     "name": "stdout",
     "output_type": "stream",
     "text": [
      "Seçilen Özellikler: ['ma_2_hours' 'ma_3_hours' 'ma_4_hours' 'ma_5_hours' 'ma_6_hours'\n",
      " 'ma_7_hours' 'ma_8_hours' 'ma_9_hours' 'ma_10_hours' 'ma_11_hours'\n",
      " 'ma_12_hours' 'ma_13_hours' 'ma_14_hours' 'ma_15_hours' 'ma_16_hours']\n"
     ]
    },
    {
     "name": "stderr",
     "output_type": "stream",
     "text": [
      "22:20:59 - cmdstanpy - INFO - Chain [1] start processing\n",
      "22:21:45 - cmdstanpy - INFO - Chain [1] done processing\n"
     ]
    },
    {
     "name": "stdout",
     "output_type": "stream",
     "text": [
      "Mean Absolute Error (MAE): 4.37\n",
      "Root Mean Squared Error (RMSE): 7.53\n"
     ]
    }
   ],
   "source": [
    "from sklearn.feature_selection import SelectKBest, mutual_info_regression\n",
    "from sklearn.metrics import mean_squared_error, mean_absolute_error\n",
    "import numpy as np\n",
    "\n",
    "# Tüm regresörler\n",
    "regressors = [\n",
    "    'dayofweek', 'dayofyear', 'hour', 'ma_2_hours', 'ma_3_hours',\n",
    "    'ma_4_hours', 'ma_5_hours', 'ma_6_hours', 'ma_7_hours', 'ma_8_hours', 'ma_9_hours', 'ma_10_hours', 'ma_11_hours', \n",
    "    'ma_12_hours', 'ma_13_hours', 'ma_14_hours', 'ma_15_hours', 'ma_16_hours', 'ma_17_hours', 'ma_18_hours', 'ma_19_hours',\n",
    "    'ma_20_hours', 'ma_21_hours', 'ma_22_hours', 'ma_23_hours',\n",
    "    \n",
    "    'Biomass', 'Hard Coal', 'Hydro', 'Lignite', 'Natural Gas', 'Nuclear',\n",
    "    'Other', 'Pumped storage generation', 'Solar', 'Wind offshore', 'Wind onshore', \n",
    "    \n",
    "    'temperature_2m', 'Precipitation (rain/snow)',\n",
    "    'wind_speed_100m', 'direct_radiation'\n",
    "]\n",
    "# Hedef değişken ve regresörler\n",
    "X = train_data[regressors]\n",
    "y = train_data['y']\n",
    "\n",
    "# Feature selection için SelectKBest kullan\n",
    "selector = SelectKBest(score_func=mutual_info_regression, k=15)\n",
    "X_selected = selector.fit_transform(X, y)\n",
    "\n",
    "# Seçilen özelliklerin adlarını al\n",
    "selected_features = np.array(regressors)[selector.get_support()]\n",
    "print(\"Seçilen Özellikler:\", selected_features)\n",
    "\n",
    "# Prophet modelini bu özelliklerle eğit\n",
    "model = Prophet()\n",
    "for feature in selected_features:\n",
    "    model.add_regressor(feature)\n",
    "\n",
    "# Modeli eğit\n",
    "model.fit(train_data)\n",
    "\n",
    "# Test verisi ile tahmin yap\n",
    "future = test_data[['ds'] + list(selected_features)]\n",
    "forecast = model.predict(future)\n",
    "\n",
    "# Tahmin sonuçlarını birleştir\n",
    "results_df = forecast.merge(test_data, on='ds', how='left')\n",
    "\n",
    "# Performans metriklerini hesapla\n",
    "mae = mean_absolute_error(results_df['y'], results_df['yhat'])\n",
    "mse = mean_squared_error(results_df['y'], results_df['yhat'])\n",
    "rmse = np.sqrt(mse)\n",
    "\n",
    "print(f\"Mean Absolute Error (MAE): {mae:.2f}\")\n",
    "print(f\"Root Mean Squared Error (RMSE): {rmse:.2f}\")\n"
   ]
  },
  {
   "cell_type": "code",
   "execution_count": 423,
   "id": "39d7a3c1",
   "metadata": {},
   "outputs": [
    {
     "name": "stderr",
     "output_type": "stream",
     "text": [
      "22:19:15 - cmdstanpy - INFO - Chain [1] start processing\n",
      "22:19:47 - cmdstanpy - INFO - Chain [1] done processing\n",
      "22:19:52 - cmdstanpy - INFO - Chain [1] start processing\n"
     ]
    },
    {
     "ename": "KeyboardInterrupt",
     "evalue": "",
     "output_type": "error",
     "traceback": [
      "\u001b[0;31m---------------------------------------------------------------------------\u001b[0m",
      "\u001b[0;31mKeyboardInterrupt\u001b[0m                         Traceback (most recent call last)",
      "Cell \u001b[0;32mIn[423], line 51\u001b[0m\n\u001b[1;32m     48\u001b[0m     \u001b[38;5;28;01mreturn\u001b[39;00m best_combination, best_rmse\n\u001b[1;32m     50\u001b[0m \u001b[38;5;66;03m# En iyi kombinasyonu bul\u001b[39;00m\n\u001b[0;32m---> 51\u001b[0m best_features, best_rmse \u001b[38;5;241m=\u001b[39m \u001b[43moptimize_regressors\u001b[49m\u001b[43m(\u001b[49m\u001b[43mtrain_data\u001b[49m\u001b[43m,\u001b[49m\u001b[43m \u001b[49m\u001b[43mtest_data\u001b[49m\u001b[43m,\u001b[49m\u001b[43m \u001b[49m\u001b[43mregressors\u001b[49m\u001b[43m,\u001b[49m\u001b[43m \u001b[49m\u001b[43mnum_features\u001b[49m\u001b[38;5;241;43m=\u001b[39;49m\u001b[38;5;241;43m15\u001b[39;49m\u001b[43m)\u001b[49m\n\u001b[1;32m     53\u001b[0m \u001b[38;5;28mprint\u001b[39m(\u001b[38;5;124m\"\u001b[39m\u001b[38;5;124mEn iyi regresör kombinasyonu:\u001b[39m\u001b[38;5;124m\"\u001b[39m, best_features)\n\u001b[1;32m     54\u001b[0m \u001b[38;5;28mprint\u001b[39m(\u001b[38;5;124mf\u001b[39m\u001b[38;5;124m\"\u001b[39m\u001b[38;5;124mEn iyi RMSE: \u001b[39m\u001b[38;5;132;01m{\u001b[39;00mbest_rmse\u001b[38;5;132;01m:\u001b[39;00m\u001b[38;5;124m.2f\u001b[39m\u001b[38;5;132;01m}\u001b[39;00m\u001b[38;5;124m\"\u001b[39m)\n",
      "Cell \u001b[0;32mIn[423], line 32\u001b[0m, in \u001b[0;36moptimize_regressors\u001b[0;34m(train_data, test_data, regressors, num_features)\u001b[0m\n\u001b[1;32m     29\u001b[0m     model\u001b[38;5;241m.\u001b[39madd_regressor(regressor)\n\u001b[1;32m     31\u001b[0m \u001b[38;5;66;03m# Modeli eğit\u001b[39;00m\n\u001b[0;32m---> 32\u001b[0m \u001b[43mmodel\u001b[49m\u001b[38;5;241;43m.\u001b[39;49m\u001b[43mfit\u001b[49m\u001b[43m(\u001b[49m\u001b[43mtrain_data\u001b[49m\u001b[43m)\u001b[49m\n\u001b[1;32m     34\u001b[0m \u001b[38;5;66;03m# Tahmin yap\u001b[39;00m\n\u001b[1;32m     35\u001b[0m future \u001b[38;5;241m=\u001b[39m test_data[[\u001b[38;5;124m'\u001b[39m\u001b[38;5;124mds\u001b[39m\u001b[38;5;124m'\u001b[39m] \u001b[38;5;241m+\u001b[39m \u001b[38;5;28mlist\u001b[39m(subset)]\n",
      "File \u001b[0;32m~/.local/lib/python3.9/site-packages/prophet/forecaster.py:1232\u001b[0m, in \u001b[0;36mProphet.fit\u001b[0;34m(self, df, **kwargs)\u001b[0m\n\u001b[1;32m   1230\u001b[0m     \u001b[38;5;28mself\u001b[39m\u001b[38;5;241m.\u001b[39mparams \u001b[38;5;241m=\u001b[39m \u001b[38;5;28mself\u001b[39m\u001b[38;5;241m.\u001b[39mstan_backend\u001b[38;5;241m.\u001b[39msampling(stan_init, dat, \u001b[38;5;28mself\u001b[39m\u001b[38;5;241m.\u001b[39mmcmc_samples, \u001b[38;5;241m*\u001b[39m\u001b[38;5;241m*\u001b[39mkwargs)\n\u001b[1;32m   1231\u001b[0m \u001b[38;5;28;01melse\u001b[39;00m:\n\u001b[0;32m-> 1232\u001b[0m     \u001b[38;5;28mself\u001b[39m\u001b[38;5;241m.\u001b[39mparams \u001b[38;5;241m=\u001b[39m \u001b[38;5;28;43mself\u001b[39;49m\u001b[38;5;241;43m.\u001b[39;49m\u001b[43mstan_backend\u001b[49m\u001b[38;5;241;43m.\u001b[39;49m\u001b[43mfit\u001b[49m\u001b[43m(\u001b[49m\u001b[43mstan_init\u001b[49m\u001b[43m,\u001b[49m\u001b[43m \u001b[49m\u001b[43mdat\u001b[49m\u001b[43m,\u001b[49m\u001b[43m \u001b[49m\u001b[38;5;241;43m*\u001b[39;49m\u001b[38;5;241;43m*\u001b[39;49m\u001b[43mkwargs\u001b[49m\u001b[43m)\u001b[49m\n\u001b[1;32m   1234\u001b[0m \u001b[38;5;28mself\u001b[39m\u001b[38;5;241m.\u001b[39mstan_fit \u001b[38;5;241m=\u001b[39m \u001b[38;5;28mself\u001b[39m\u001b[38;5;241m.\u001b[39mstan_backend\u001b[38;5;241m.\u001b[39mstan_fit\n\u001b[1;32m   1235\u001b[0m \u001b[38;5;66;03m# If no changepoints were requested, replace delta with 0s\u001b[39;00m\n",
      "File \u001b[0;32m~/.local/lib/python3.9/site-packages/prophet/models.py:121\u001b[0m, in \u001b[0;36mCmdStanPyBackend.fit\u001b[0;34m(self, stan_init, stan_data, **kwargs)\u001b[0m\n\u001b[1;32m    118\u001b[0m args\u001b[38;5;241m.\u001b[39mupdate(kwargs)\n\u001b[1;32m    120\u001b[0m \u001b[38;5;28;01mtry\u001b[39;00m:\n\u001b[0;32m--> 121\u001b[0m     \u001b[38;5;28mself\u001b[39m\u001b[38;5;241m.\u001b[39mstan_fit \u001b[38;5;241m=\u001b[39m \u001b[38;5;28;43mself\u001b[39;49m\u001b[38;5;241;43m.\u001b[39;49m\u001b[43mmodel\u001b[49m\u001b[38;5;241;43m.\u001b[39;49m\u001b[43moptimize\u001b[49m\u001b[43m(\u001b[49m\u001b[38;5;241;43m*\u001b[39;49m\u001b[38;5;241;43m*\u001b[39;49m\u001b[43margs\u001b[49m\u001b[43m)\u001b[49m\n\u001b[1;32m    122\u001b[0m \u001b[38;5;28;01mexcept\u001b[39;00m \u001b[38;5;167;01mRuntimeError\u001b[39;00m \u001b[38;5;28;01mas\u001b[39;00m e:\n\u001b[1;32m    123\u001b[0m     \u001b[38;5;66;03m# Fall back on Newton\u001b[39;00m\n\u001b[1;32m    124\u001b[0m     \u001b[38;5;28;01mif\u001b[39;00m \u001b[38;5;129;01mnot\u001b[39;00m \u001b[38;5;28mself\u001b[39m\u001b[38;5;241m.\u001b[39mnewton_fallback \u001b[38;5;129;01mor\u001b[39;00m args[\u001b[38;5;124m'\u001b[39m\u001b[38;5;124malgorithm\u001b[39m\u001b[38;5;124m'\u001b[39m] \u001b[38;5;241m==\u001b[39m \u001b[38;5;124m'\u001b[39m\u001b[38;5;124mNewton\u001b[39m\u001b[38;5;124m'\u001b[39m:\n",
      "File \u001b[0;32m~/.local/lib/python3.9/site-packages/cmdstanpy/model.py:644\u001b[0m, in \u001b[0;36mCmdStanModel.optimize\u001b[0;34m(self, data, seed, inits, output_dir, sig_figs, save_profile, algorithm, init_alpha, tol_obj, tol_rel_obj, tol_grad, tol_rel_grad, tol_param, history_size, iter, save_iterations, require_converged, show_console, refresh, time_fmt, timeout, jacobian)\u001b[0m\n\u001b[1;32m    642\u001b[0m     dummy_chain_id \u001b[38;5;241m=\u001b[39m \u001b[38;5;241m0\u001b[39m\n\u001b[1;32m    643\u001b[0m     runset \u001b[38;5;241m=\u001b[39m RunSet(args\u001b[38;5;241m=\u001b[39margs, chains\u001b[38;5;241m=\u001b[39m\u001b[38;5;241m1\u001b[39m, time_fmt\u001b[38;5;241m=\u001b[39mtime_fmt)\n\u001b[0;32m--> 644\u001b[0m     \u001b[38;5;28;43mself\u001b[39;49m\u001b[38;5;241;43m.\u001b[39;49m\u001b[43m_run_cmdstan\u001b[49m\u001b[43m(\u001b[49m\n\u001b[1;32m    645\u001b[0m \u001b[43m        \u001b[49m\u001b[43mrunset\u001b[49m\u001b[43m,\u001b[49m\n\u001b[1;32m    646\u001b[0m \u001b[43m        \u001b[49m\u001b[43mdummy_chain_id\u001b[49m\u001b[43m,\u001b[49m\n\u001b[1;32m    647\u001b[0m \u001b[43m        \u001b[49m\u001b[43mshow_console\u001b[49m\u001b[38;5;241;43m=\u001b[39;49m\u001b[43mshow_console\u001b[49m\u001b[43m,\u001b[49m\n\u001b[1;32m    648\u001b[0m \u001b[43m        \u001b[49m\u001b[43mtimeout\u001b[49m\u001b[38;5;241;43m=\u001b[39;49m\u001b[43mtimeout\u001b[49m\u001b[43m,\u001b[49m\n\u001b[1;32m    649\u001b[0m \u001b[43m    \u001b[49m\u001b[43m)\u001b[49m\n\u001b[1;32m    650\u001b[0m runset\u001b[38;5;241m.\u001b[39mraise_for_timeouts()\n\u001b[1;32m    652\u001b[0m \u001b[38;5;28;01mif\u001b[39;00m \u001b[38;5;129;01mnot\u001b[39;00m runset\u001b[38;5;241m.\u001b[39m_check_retcodes():\n",
      "File \u001b[0;32m~/.local/lib/python3.9/site-packages/cmdstanpy/model.py:2087\u001b[0m, in \u001b[0;36mCmdStanModel._run_cmdstan\u001b[0;34m(self, runset, idx, show_progress, show_console, progress_hook, timeout)\u001b[0m\n\u001b[1;32m   2085\u001b[0m \u001b[38;5;28;01mwhile\u001b[39;00m proc\u001b[38;5;241m.\u001b[39mpoll() \u001b[38;5;129;01mis\u001b[39;00m \u001b[38;5;28;01mNone\u001b[39;00m:\n\u001b[1;32m   2086\u001b[0m     \u001b[38;5;28;01mif\u001b[39;00m proc\u001b[38;5;241m.\u001b[39mstdout \u001b[38;5;129;01mis\u001b[39;00m \u001b[38;5;129;01mnot\u001b[39;00m \u001b[38;5;28;01mNone\u001b[39;00m:\n\u001b[0;32m-> 2087\u001b[0m         line \u001b[38;5;241m=\u001b[39m \u001b[43mproc\u001b[49m\u001b[38;5;241;43m.\u001b[39;49m\u001b[43mstdout\u001b[49m\u001b[38;5;241;43m.\u001b[39;49m\u001b[43mreadline\u001b[49m\u001b[43m(\u001b[49m\u001b[43m)\u001b[49m\n\u001b[1;32m   2088\u001b[0m         fd_out\u001b[38;5;241m.\u001b[39mwrite(line)\n\u001b[1;32m   2089\u001b[0m         line \u001b[38;5;241m=\u001b[39m line\u001b[38;5;241m.\u001b[39mstrip()\n",
      "\u001b[0;31mKeyboardInterrupt\u001b[0m: "
     ]
    }
   ],
   "source": [
    "from sklearn.feature_selection import SelectKBest, f_regression\n",
    "from sklearn.metrics import mean_squared_error, mean_absolute_error\n",
    "import numpy as np\n",
    "\n",
    "# Tüm regresörler\n",
    "regressors = [\n",
    "    'dayofweek', 'dayofyear', 'hour', 'ma_2_hours', 'ma_3_hours',\n",
    "    'ma_4_hours', 'ma_5_hours', 'ma_6_hours', 'ma_7_hours', 'ma_8_hours', 'ma_9_hours', 'ma_10_hours', 'ma_11_hours', \n",
    "    'ma_12_hours', 'ma_13_hours', 'ma_14_hours', 'ma_15_hours', 'ma_16_hours', 'ma_17_hours', 'ma_18_hours', 'ma_19_hours',\n",
    "    'ma_20_hours', 'ma_21_hours', 'ma_22_hours', 'ma_23_hours',\n",
    "    \n",
    "    'Biomass', 'Hard Coal', 'Hydro', 'Lignite', 'Natural Gas', 'Nuclear',\n",
    "    'Other', 'Pumped storage generation', 'Solar', 'Wind offshore', 'Wind onshore', \n",
    "    \n",
    "    'temperature_2m', 'Precipitation (rain/snow)',\n",
    "    'wind_speed_100m', 'direct_radiation'\n",
    "]\n",
    "# Listeyi optimize edecek bir fonksiyon\n",
    "def optimize_regressors(train_data, test_data, regressors, num_features=15):\n",
    "    best_rmse = float('inf')\n",
    "    best_combination = None\n",
    "    \n",
    "    # Tüm kombinasyonları denemek yerine seçilebilir alt kümelere odaklanalım\n",
    "    from itertools import combinations\n",
    "    for subset in combinations(regressors, num_features):\n",
    "        # Prophet modelini her bir alt küme için oluştur\n",
    "        model = Prophet()\n",
    "        for regressor in subset:\n",
    "            model.add_regressor(regressor)\n",
    "        \n",
    "        # Modeli eğit\n",
    "        model.fit(train_data)\n",
    "        \n",
    "        # Tahmin yap\n",
    "        future = test_data[['ds'] + list(subset)]\n",
    "        forecast = model.predict(future)\n",
    "        results_df = forecast.merge(test_data, on='ds', how='left')\n",
    "        \n",
    "        # RMSE'yi hesapla\n",
    "        mse = mean_squared_error(results_df['y'], results_df['yhat'])\n",
    "        rmse = np.sqrt(mse)\n",
    "        \n",
    "        # En iyi kombinasyonu kontrol et\n",
    "        if rmse < best_rmse:\n",
    "            best_rmse = rmse\n",
    "            best_combination = subset\n",
    "    \n",
    "    return best_combination, best_rmse\n",
    "\n",
    "# En iyi kombinasyonu bul\n",
    "best_features, best_rmse = optimize_regressors(train_data, test_data, regressors, num_features=15)\n",
    "\n",
    "print(\"En iyi regresör kombinasyonu:\", best_features)\n",
    "print(f\"En iyi RMSE: {best_rmse:.2f}\")\n"
   ]
  }
 ],
 "metadata": {
  "kernelspec": {
   "display_name": "Python 3",
   "language": "python",
   "name": "python3"
  },
  "language_info": {
   "codemirror_mode": {
    "name": "ipython",
    "version": 3
   },
   "file_extension": ".py",
   "mimetype": "text/x-python",
   "name": "python",
   "nbconvert_exporter": "python",
   "pygments_lexer": "ipython3",
   "version": "3.9.2"
  }
 },
 "nbformat": 4,
 "nbformat_minor": 5
}
