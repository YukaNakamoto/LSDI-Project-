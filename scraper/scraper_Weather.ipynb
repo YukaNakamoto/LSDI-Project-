{
 "cells": [
  {
   "cell_type": "code",
   "id": "initial_id",
   "metadata": {
    "collapsed": true,
    "ExecuteTime": {
     "end_time": "2024-11-02T15:10:28.990648Z",
     "start_time": "2024-11-02T15:10:28.189210Z"
    }
   },
   "source": [
    "import openmeteo_requests\n",
    "import requests_cache\n",
    "import pandas as pd\n",
    "from retry_requests import retry\n",
    "\n",
    "# Setup the Open-Meteo API client with cache and retry on error\n",
    "cache_session = requests_cache.CachedSession('.cache', expire_after = -1)\n",
    "retry_session = retry(cache_session, retries = 5, backoff_factor = 0.2)\n",
    "openmeteo = openmeteo_requests.Client(session = retry_session)\n",
    "\n",
    "# variables for the weather api\n",
    "# hourly and daily needs to be chosen from\n",
    "url = \"https://archive-api.open-meteo.com/v1/archive\"\n",
    "params = {\n",
    "\t\"latitude\": 51.5167,\n",
    "\t\"longitude\": 9.9167,\n",
    "\t\"start_date\": \"2018-01-01\",\n",
    "\t\"end_date\": \"2024-11-01\",\n",
    "\t\"hourly\": [\"temperature_2m\", \"cloud_cover\"]\n",
    "}\n",
    "responses = openmeteo.weather_api(url, params=params)\n",
    "\n",
    "# Process first location. Add a for-loop for multiple locations or weather models\n",
    "response = responses[0]\n",
    "print(f\"Coordinates {response.Latitude()}°N {response.Longitude()}°E\")\n",
    "print(f\"Elevation {response.Elevation()} m asl\")\n",
    "print(f\"Timezone {response.Timezone()} {response.TimezoneAbbreviation()}\")\n",
    "print(f\"Timezone difference to GMT+0 {response.UtcOffsetSeconds()} s\")\n",
    "\n",
    "# Process hourly data. The order of variables needs to be the same as requested.\n",
    "hourly = response.Hourly()\n",
    "hourly_temperature_2m = hourly.Variables(0).ValuesAsNumpy()\n",
    "hourly_cloud_cover = hourly.Variables(1).ValuesAsNumpy()\n",
    "\n",
    "hourly_data = {\"date\": pd.date_range(\n",
    "\tstart = pd.to_datetime(hourly.Time(), unit = \"s\", utc = True),\n",
    "\tend = pd.to_datetime(hourly.TimeEnd(), unit = \"s\", utc = True),\n",
    "\tfreq = pd.Timedelta(seconds = hourly.Interval()),\n",
    "\tinclusive = \"left\"\n",
    ")}\n",
    "hourly_data[\"temperature_2m\"] = hourly_temperature_2m\n",
    "hourly_data[\"cloud_cover\"] = hourly_cloud_cover\n",
    "\n",
    "hourly_dataframe = pd.DataFrame(data = hourly_data)\n",
    "print(hourly_dataframe)\n",
    "\n",
    "\n",
    "# save file in csv\n",
    "\n",
    "csv_file = \"daily_weather.csv\"\n",
    "hourly_dataframe.to_csv(csv_file, index = False)\n",
    "\n",
    "print(f\"csv FILE saved as '{csv_file}' in the current directory\")"
   ],
   "outputs": [
    {
     "name": "stdout",
     "output_type": "stream",
     "text": [
      "Coordinates 51.49384689331055°N 9.945652961730957°E\n",
      "Elevation 174.0 m asl\n",
      "Timezone None None\n",
      "Timezone difference to GMT+0 0 s\n",
      "                           date  temperature_2m  cloud_cover\n",
      "0     2018-01-01 00:00:00+00:00          10.383        100.0\n",
      "1     2018-01-01 01:00:00+00:00           9.433        100.0\n",
      "2     2018-01-01 02:00:00+00:00           8.583        100.0\n",
      "3     2018-01-01 03:00:00+00:00           7.933         66.0\n",
      "4     2018-01-01 04:00:00+00:00           7.583         93.0\n",
      "...                         ...             ...          ...\n",
      "59923 2024-11-01 19:00:00+00:00             NaN          NaN\n",
      "59924 2024-11-01 20:00:00+00:00             NaN          NaN\n",
      "59925 2024-11-01 21:00:00+00:00             NaN          NaN\n",
      "59926 2024-11-01 22:00:00+00:00             NaN          NaN\n",
      "59927 2024-11-01 23:00:00+00:00             NaN          NaN\n",
      "\n",
      "[59928 rows x 3 columns]\n",
      "CSV file saved as 'weather_data.csv' in the current directory.\n"
     ]
    }
   ],
   "execution_count": 5
  },
  {
   "metadata": {},
   "cell_type": "code",
   "outputs": [],
   "execution_count": null,
   "source": "",
   "id": "cd4ff33120c05628"
  }
 ],
 "metadata": {
  "kernelspec": {
   "display_name": "Python 3",
   "language": "python",
   "name": "python3"
  },
  "language_info": {
   "codemirror_mode": {
    "name": "ipython",
    "version": 2
   },
   "file_extension": ".py",
   "mimetype": "text/x-python",
   "name": "python",
   "nbconvert_exporter": "python",
   "pygments_lexer": "ipython2",
   "version": "2.7.6"
  }
 },
 "nbformat": 4,
 "nbformat_minor": 5
}
