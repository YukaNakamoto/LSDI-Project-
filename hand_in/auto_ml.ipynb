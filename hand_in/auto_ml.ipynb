{
 "cells": [
  {
   "cell_type": "code",
   "execution_count": null,
   "metadata": {
    "vscode": {
     "languageId": "plaintext"
    }
   },
   "outputs": [],
   "source": [
    "def objective(params):\n",
    "\n",
    "    # params['max_depth'] = int(params['max_depth'])\n",
    "    # params['n_estimators'] = int(params['n_estimators'])\n",
    "    # params['min_child_weight'] = int(params['min_child_weight'])\n",
    "    # params['max_delta_step'] = int(params['max_delta_step'])\n",
    "    # params['early_stopping_rounds'] = int(params['early_stopping_rounds'])\n",
    "\n",
    "    # best_params = {\n",
    "    # \"base_score\": np.float64(0.3888133835396405),\n",
    "    # \"colsample_bytree\": np.float64(0.6349243426308729),\n",
    "    # \"early_stopping_rounds\": np.int64(40),\n",
    "    # \"gamma\": np.float64(0.8154683526419992),\n",
    "    # \"learning_rate\": np.float64(0.06),\n",
    "    # \"max_depth\": np.int64(200),\n",
    "    # \"min_child_weight\": np.int64(7),\n",
    "    # \"n_estimators\": np.int64(150),\n",
    "    # \"subsample\": np.float64(0.5719023844219375),\n",
    "    # }\n",
    "\n",
    "    model = xgb.XGBRegressor(\n",
    "        base_score=params['base_score'],\n",
    "        early_stopping_rounds= np.int64(40),\n",
    "        max_depth= np.int64(200),\n",
    "        learning_rate=params['learning_rate'],\n",
    "        n_estimators=np.int64(150),\n",
    "        gamma=np.float64(0.8154683526419992),\n",
    "        # min_child_weight=params['min_child_weight'],\n",
    "        # subsample=params['subsample'],\n",
    "        # colsample_bytree=params['colsample_bytree'],\n",
    "        # colsample_bynode=params['colsample_bynode'],\n",
    "        # colsample_bylevel=params['colsample_bylevel'],\n",
    "        # max_delta_step=params['max_delta_step'],\n",
    "        # reg_lambda=params['reg_lambda'],\n",
    "        eval_metric='rmse',\n",
    "        objective='reg:squarederror',\n",
    "    )\n",
    "    \n",
    "    # Fit the model on the training data\n",
    "    model.fit(\n",
    "        X_train, y_train,\n",
    "        eval_set=[(X_val, y_val)],  # Provide validation set for early stopping\n",
    "        verbose=False  # Suppress training output\n",
    "    )\n",
    "    \n",
    "    # Predict on the validation set\n",
    "    predictions = model.predict(X_test)\n",
    "    \n",
    "    # Calculate the root mean squared error (RMSE)\n",
    "    rmse = root_mean_squared_error(y_test, predictions)\n",
    "    \n",
    "    return rmse"
   ]
  }
 ],
 "metadata": {
  "language_info": {
   "name": "python"
  }
 },
 "nbformat": 4,
 "nbformat_minor": 2
}
