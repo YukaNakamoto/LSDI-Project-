{
 "cells": [
  {
   "cell_type": "markdown",
   "metadata": {},
   "source": [
    "## Configuration"
   ]
  },
  {
   "cell_type": "code",
   "execution_count": 1,
   "metadata": {
    "ExecuteTime": {
     "end_time": "2025-01-28T18:18:22.883957Z",
     "start_time": "2025-01-28T18:18:22.875539Z"
    }
   },
   "outputs": [
    {
     "name": "stderr",
     "output_type": "stream",
     "text": [
      "Importing plotly failed. Interactive plots will not work.\n"
     ]
    }
   ],
   "source": [
    "import pandas as pd\n",
    "import numpy as np\n",
    "from prophet import Prophet\n",
    "from datetime import datetime"
   ]
  },
  {
   "cell_type": "code",
   "execution_count": 2,
   "metadata": {},
   "outputs": [],
   "source": [
    "from src.widgets import get_config_widgets, select_features\n",
    "from src.dataset import get_datasets, normalize_data\n",
    "from src.feature import create_features, split\n",
    "from src.prediction import linear_regression, predict_mse, predict_mae, calculate_error_metrics\n",
    "from src.plot import plot_price_split, feature_importance, plot_predicted"
   ]
  },
  {
   "cell_type": "code",
   "execution_count": 3,
   "metadata": {},
   "outputs": [
    {
     "data": {
      "application/vnd.jupyter.widget-view+json": {
       "model_id": "d42f2c003e9d45859de0c7b640069e36",
       "version_major": 2,
       "version_minor": 0
      },
      "text/plain": [
       "IntRangeSlider(value=(-500, 900), continuous_update=False, description='Energy Price Interval', max=900, min=-…"
      ]
     },
     "metadata": {},
     "output_type": "display_data"
    },
    {
     "data": {
      "application/vnd.jupyter.widget-view+json": {
       "model_id": "eddef5615ab243a3a7570b2ed7f51271",
       "version_major": 2,
       "version_minor": 0
      },
      "text/plain": [
       "DatePicker(value=datetime.date(2024, 10, 29), description='Prediction Date', step=1)"
      ]
     },
     "metadata": {},
     "output_type": "display_data"
    },
    {
     "data": {
      "application/vnd.jupyter.widget-view+json": {
       "model_id": "9d19f4eed9fc4776a9116f4b3b1c39c2",
       "version_major": 2,
       "version_minor": 0
      },
      "text/plain": [
       "FloatSlider(value=0.05, description='Evaluation Set Size', max=0.2, step=0.01)"
      ]
     },
     "metadata": {},
     "output_type": "display_data"
    },
    {
     "data": {
      "application/vnd.jupyter.widget-view+json": {
       "model_id": "f6491302b5584d5691bb6da4784c733e",
       "version_major": 2,
       "version_minor": 0
      },
      "text/plain": [
       "Checkbox(value=False, description='Normalize')"
      ]
     },
     "metadata": {},
     "output_type": "display_data"
    }
   ],
   "source": [
    "price_interval, prediction_date_picker, eval_size, normalize =  get_config_widgets()"
   ]
  },
  {
   "cell_type": "markdown",
   "metadata": {},
   "source": [
    "## Data loading"
   ]
  },
  {
   "cell_type": "code",
   "execution_count": 4,
   "metadata": {},
   "outputs": [
    {
     "name": "stdout",
     "output_type": "stream",
     "text": [
      "Fetching predicted energy mix\n",
      "46 estimations added to Hydro column.\n",
      "46 estimations added to Pumped storage generation column.\n",
      "                        Hydro  Pumped storage generation  Solar   \n",
      "2018-10-01 00:00:00  0.020898                   0.003477    0.0  \\\n",
      "2018-10-01 01:00:00  0.020278                   0.003478    0.0   \n",
      "2018-10-01 02:00:00  0.020001                   0.003471    0.0   \n",
      "2018-10-01 03:00:00  0.020071                   0.003452    0.0   \n",
      "2018-10-01 04:00:00  0.019701                   0.003391    0.0   \n",
      "...                       ...                        ...    ...   \n",
      "2024-10-31 18:00:00  0.052804                  -0.021874    0.0   \n",
      "2024-10-31 19:00:00  0.040433                   0.018121    0.0   \n",
      "2024-10-31 20:00:00  0.050852                  -0.004315    0.0   \n",
      "2024-10-31 21:00:00  0.056144                   0.004864    0.0   \n",
      "2024-10-31 22:00:00  0.042490                   0.038112    0.0   \n",
      "\n",
      "                     Wind offshore  Wind onshore  \n",
      "2018-10-01 00:00:00       0.029572      0.078357  \n",
      "2018-10-01 01:00:00       0.037920      0.073151  \n",
      "2018-10-01 02:00:00       0.038929      0.071471  \n",
      "2018-10-01 03:00:00       0.039751      0.075943  \n",
      "2018-10-01 04:00:00       0.045451      0.082545  \n",
      "...                            ...           ...  \n",
      "2024-10-31 18:00:00   14097.750000   4630.000000  \n",
      "2024-10-31 19:00:00   15064.000000   4531.750000  \n",
      "2024-10-31 20:00:00   15542.750000   4502.500000  \n",
      "2024-10-31 21:00:00   15476.250000   4532.750000  \n",
      "2024-10-31 22:00:00   15690.500000   4692.750000  \n",
      "\n",
      "[53207 rows x 5 columns]\n"
     ]
    },
    {
     "ename": "InvalidIndexError",
     "evalue": "Reindexing only valid with uniquely valued Index objects",
     "output_type": "error",
     "traceback": [
      "\u001b[0;31m---------------------------------------------------------------------------\u001b[0m",
      "\u001b[0;31mInvalidIndexError\u001b[0m                         Traceback (most recent call last)",
      "Cell \u001b[0;32mIn[4], line 1\u001b[0m\n\u001b[0;32m----> 1\u001b[0m merged_df, e_price_df \u001b[38;5;241m=\u001b[39m \u001b[43mget_datasets\u001b[49m\u001b[43m(\u001b[49m\u001b[43mprediction_date_picker\u001b[49m\u001b[38;5;241;43m.\u001b[39;49m\u001b[43mvalue\u001b[49m\u001b[43m)\u001b[49m\n",
      "File \u001b[0;32m~/Library/Mobile Documents/com~apple~CloudDocs/uni/tu/Fächer/LSDI-Project/LSDI-Project-/hand_in/src/dataset.py:100\u001b[0m, in \u001b[0;36mget_datasets\u001b[0;34m(prediction_date)\u001b[0m\n\u001b[1;32m     90\u001b[0m avg_weather_df\u001b[38;5;241m.\u001b[39mrename(columns\u001b[38;5;241m=\u001b[39m{\n\u001b[1;32m     91\u001b[0m     \u001b[38;5;124m'\u001b[39m\u001b[38;5;124mPrecipitation (rain/snow)\u001b[39m\u001b[38;5;124m'\u001b[39m: \u001b[38;5;124m'\u001b[39m\u001b[38;5;124mprecipitation\u001b[39m\u001b[38;5;124m'\u001b[39m,\n\u001b[1;32m     92\u001b[0m     \u001b[38;5;124m'\u001b[39m\u001b[38;5;124mwind_speed_100m\u001b[39m\u001b[38;5;124m'\u001b[39m: \u001b[38;5;124m'\u001b[39m\u001b[38;5;124mwind_speed_100m\u001b[39m\u001b[38;5;124m'\u001b[39m,\n\u001b[1;32m     93\u001b[0m     \u001b[38;5;124m'\u001b[39m\u001b[38;5;124mGlobal Horizontal Irradiance\u001b[39m\u001b[38;5;124m'\u001b[39m: \u001b[38;5;124m'\u001b[39m\u001b[38;5;124mshortwave_radiation\u001b[39m\u001b[38;5;124m'\u001b[39m,\n\u001b[1;32m     94\u001b[0m     \u001b[38;5;124m'\u001b[39m\u001b[38;5;124mdirect_radiation\u001b[39m\u001b[38;5;124m'\u001b[39m: \u001b[38;5;124m'\u001b[39m\u001b[38;5;124mdirect_radiation\u001b[39m\u001b[38;5;124m'\u001b[39m, \n\u001b[1;32m     95\u001b[0m     }, inplace\u001b[38;5;241m=\u001b[39m\u001b[38;5;28;01mTrue\u001b[39;00m)\n\u001b[1;32m     97\u001b[0m dfs_to_merge\u001b[38;5;241m.\u001b[39mappend(avg_weather_df)\n\u001b[0;32m--> 100\u001b[0m merged_df \u001b[38;5;241m=\u001b[39m \u001b[43mpd\u001b[49m\u001b[38;5;241;43m.\u001b[39;49m\u001b[43mconcat\u001b[49m\u001b[43m(\u001b[49m\u001b[43mdfs_to_merge\u001b[49m\u001b[43m,\u001b[49m\u001b[43m \u001b[49m\u001b[43maxis\u001b[49m\u001b[38;5;241;43m=\u001b[39;49m\u001b[38;5;241;43m1\u001b[39;49m\u001b[43m,\u001b[49m\u001b[43m \u001b[49m\u001b[43mjoin\u001b[49m\u001b[38;5;241;43m=\u001b[39;49m\u001b[38;5;124;43m'\u001b[39;49m\u001b[38;5;124;43minner\u001b[39;49m\u001b[38;5;124;43m'\u001b[39;49m\u001b[43m)\u001b[49m\n\u001b[1;32m    102\u001b[0m \u001b[38;5;28;01mreturn\u001b[39;00m merged_df, e_price_df\u001b[38;5;241m.\u001b[39mcopy()\n",
      "File \u001b[0;32m~/Library/Python/3.9/lib/python/site-packages/pandas/core/reshape/concat.py:385\u001b[0m, in \u001b[0;36mconcat\u001b[0;34m(objs, axis, join, ignore_index, keys, levels, names, verify_integrity, sort, copy)\u001b[0m\n\u001b[1;32m    370\u001b[0m     copy \u001b[38;5;241m=\u001b[39m \u001b[38;5;28;01mFalse\u001b[39;00m\n\u001b[1;32m    372\u001b[0m op \u001b[38;5;241m=\u001b[39m _Concatenator(\n\u001b[1;32m    373\u001b[0m     objs,\n\u001b[1;32m    374\u001b[0m     axis\u001b[38;5;241m=\u001b[39maxis,\n\u001b[0;32m   (...)\u001b[0m\n\u001b[1;32m    382\u001b[0m     sort\u001b[38;5;241m=\u001b[39msort,\n\u001b[1;32m    383\u001b[0m )\n\u001b[0;32m--> 385\u001b[0m \u001b[38;5;28;01mreturn\u001b[39;00m \u001b[43mop\u001b[49m\u001b[38;5;241;43m.\u001b[39;49m\u001b[43mget_result\u001b[49m\u001b[43m(\u001b[49m\u001b[43m)\u001b[49m\n",
      "File \u001b[0;32m~/Library/Python/3.9/lib/python/site-packages/pandas/core/reshape/concat.py:612\u001b[0m, in \u001b[0;36m_Concatenator.get_result\u001b[0;34m(self)\u001b[0m\n\u001b[1;32m    610\u001b[0m         obj_labels \u001b[38;5;241m=\u001b[39m obj\u001b[38;5;241m.\u001b[39maxes[\u001b[38;5;241m1\u001b[39m \u001b[38;5;241m-\u001b[39m ax]\n\u001b[1;32m    611\u001b[0m         \u001b[38;5;28;01mif\u001b[39;00m \u001b[38;5;129;01mnot\u001b[39;00m new_labels\u001b[38;5;241m.\u001b[39mequals(obj_labels):\n\u001b[0;32m--> 612\u001b[0m             indexers[ax] \u001b[38;5;241m=\u001b[39m \u001b[43mobj_labels\u001b[49m\u001b[38;5;241;43m.\u001b[39;49m\u001b[43mget_indexer\u001b[49m\u001b[43m(\u001b[49m\u001b[43mnew_labels\u001b[49m\u001b[43m)\u001b[49m\n\u001b[1;32m    614\u001b[0m     mgrs_indexers\u001b[38;5;241m.\u001b[39mappend((obj\u001b[38;5;241m.\u001b[39m_mgr, indexers))\n\u001b[1;32m    616\u001b[0m new_data \u001b[38;5;241m=\u001b[39m concatenate_managers(\n\u001b[1;32m    617\u001b[0m     mgrs_indexers, \u001b[38;5;28mself\u001b[39m\u001b[38;5;241m.\u001b[39mnew_axes, concat_axis\u001b[38;5;241m=\u001b[39m\u001b[38;5;28mself\u001b[39m\u001b[38;5;241m.\u001b[39mbm_axis, copy\u001b[38;5;241m=\u001b[39m\u001b[38;5;28mself\u001b[39m\u001b[38;5;241m.\u001b[39mcopy\n\u001b[1;32m    618\u001b[0m )\n",
      "File \u001b[0;32m~/Library/Python/3.9/lib/python/site-packages/pandas/core/indexes/base.py:3731\u001b[0m, in \u001b[0;36mIndex.get_indexer\u001b[0;34m(self, target, method, limit, tolerance)\u001b[0m\n\u001b[1;32m   3728\u001b[0m \u001b[38;5;28mself\u001b[39m\u001b[38;5;241m.\u001b[39m_check_indexing_method(method, limit, tolerance)\n\u001b[1;32m   3730\u001b[0m \u001b[38;5;28;01mif\u001b[39;00m \u001b[38;5;129;01mnot\u001b[39;00m \u001b[38;5;28mself\u001b[39m\u001b[38;5;241m.\u001b[39m_index_as_unique:\n\u001b[0;32m-> 3731\u001b[0m     \u001b[38;5;28;01mraise\u001b[39;00m InvalidIndexError(\u001b[38;5;28mself\u001b[39m\u001b[38;5;241m.\u001b[39m_requires_unique_msg)\n\u001b[1;32m   3733\u001b[0m \u001b[38;5;28;01mif\u001b[39;00m \u001b[38;5;28mlen\u001b[39m(target) \u001b[38;5;241m==\u001b[39m \u001b[38;5;241m0\u001b[39m:\n\u001b[1;32m   3734\u001b[0m     \u001b[38;5;28;01mreturn\u001b[39;00m np\u001b[38;5;241m.\u001b[39marray([], dtype\u001b[38;5;241m=\u001b[39mnp\u001b[38;5;241m.\u001b[39mintp)\n",
      "\u001b[0;31mInvalidIndexError\u001b[0m: Reindexing only valid with uniquely valued Index objects"
     ]
    }
   ],
   "source": [
    "merged_df, e_price_df = get_datasets(prediction_date_picker.value)"
   ]
  },
  {
   "cell_type": "code",
   "execution_count": null,
   "metadata": {},
   "outputs": [],
   "source": [
    "e_price_df"
   ]
  },
  {
   "cell_type": "markdown",
   "metadata": {},
   "source": [
    "## Feature Selection"
   ]
  },
  {
   "cell_type": "markdown",
   "metadata": {},
   "source": [
    "### Best Feature Set (Prophet) - RMSE 7,02\n",
    "- dayofweek\n",
    "- dayofyear,\n",
    "- ma_2_hours\n",
    "- ma_3_hours\n",
    "- ma_4_hours\n",
    "- ma_16_hours\n",
    "- ma_19_hours\n",
    "- ma_20_hours\n",
    "- ma_21_hours\n",
    "- ma_22_hours\n",
    "- ma_23_hours,\n",
    "- Hydro\n",
    "- Solar\n",
    "- temperature_2m\n",
    "- Precipitation (rain/snow)\n",
    "- direct_radiation\n",
    "### Best Feature Set (XGBoost)\n",
    "- hour\n",
    "- dayofweek\n",
    "- dayofyear\n",
    "- ma_3_hours \n",
    "- ma_6_hours\n",
    "- ma_1_days\n",
    "- ma_7_days \n",
    "- Biomass\n",
    "- Hard Coal\n",
    "- Hydro\n",
    "- Lignite\n",
    "- Natural Gas \n",
    "- Nuclear\n",
    "- Other\n",
    "- Pumped storage generation\n",
    "- Solar\n",
    "- Wind offshore\n",
    "- Wind onshore\n",
    "- pumped_storage_generation_ma_3_hours\n",
    "- pumped_storage_generation_ma_6_hours"
   ]
  },
  {
   "cell_type": "code",
   "execution_count": null,
   "metadata": {},
   "outputs": [],
   "source": [
    "get_features, default_features = select_features()"
   ]
  },
  {
   "cell_type": "code",
   "execution_count": 91,
   "metadata": {},
   "outputs": [],
   "source": [
    "# RERUN WHEN TICKING the NORMALIZED BOX \n",
    "\n",
    "selected_features = get_features()\n",
    "FEATURES = default_features if not selected_features else selected_features\n",
    "\n",
    "min_price, max_price = price_interval.value\n",
    "\n",
    "features_df = create_features(merged_df)\n",
    "features_interval_df = features_df.copy()[\n",
    "    (features_df[\"Price\"] >= min_price) &\n",
    "    (features_df[\"Price\"] <= max_price)\n",
    "]\n",
    "\n",
    "normalized_features_df, normalized_e_price_df, normalized_interval_df, e_price_scaler = normalize_data(features_df.copy(), e_price_df.copy(), features_interval_df.copy())\n",
    "\n",
    "TARGET = merged_df[\"Price\"]\n",
    "TARGET_INTERVAL = features_interval_df[\"Price\"]\n",
    "TARGET_NORMALIZED = normalized_features_df[\"Price\"]\n",
    "TARGET_NORMALIZED_INTERVAL = normalized_interval_df[\"Price\"]\n",
    "\n",
    "combined_df = pd.concat([features_df[FEATURES], TARGET], axis=1)\n",
    "combined_interval_df = pd.concat([features_interval_df[FEATURES], TARGET_INTERVAL], axis=1)\n",
    "combined_normalized_df = pd.concat([normalized_features_df[FEATURES], TARGET_NORMALIZED], axis=1)\n",
    "combined_normalized_interval_df = pd.concat([normalized_interval_df[FEATURES], TARGET_NORMALIZED_INTERVAL], axis=1)\n",
    "\n",
    "\n",
    "if normalize.value:\n",
    "    train, eval, test, SPLIT_DATE_EVAL, SPLIT_DATE_TEST = split(combined_normalized_df,eval_size.value)\n",
    "    train_XGB, eval_XGB, test_XGB, SPLIT_DATE_EVAL_INTERVAL, SPLIT_DATE_TEST_INTERVAL = split(combined_normalized_interval_df,eval_size.value)\n",
    "    scalar = e_price_scaler\n",
    "    \n",
    "else:\n",
    "    train, eval, test, SPLIT_DATE_EVAL, SPLIT_DATE_TEST = split(combined_df,eval_size.value)\n",
    "    train_XGB, eval_XGB, test_XGB, SPLIT_DATE_EVAL_INTERVAL, SPLIT_DATE_TEST_INTERVAL = split(combined_interval_df,eval_size.value)\n",
    "    scalar = None\n",
    "\n",
    "TARGET = \"Price\"\n",
    "\n",
    "X_train = train[FEATURES]\n",
    "y_train = train[TARGET]\n",
    "\n",
    "X_test = test[FEATURES]\n",
    "y_test = test[TARGET]\n",
    "\n",
    "X_val = eval[FEATURES]\n",
    "y_val = eval[TARGET]\n",
    "\n",
    "X_train_XGB = train_XGB[FEATURES]\n",
    "y_train_XGB = train_XGB[TARGET]\n",
    "\n",
    "X_test_XGB = test_XGB[FEATURES]\n",
    "y_test_XGB = test_XGB[TARGET]\n",
    "\n",
    "X_val_XGB = eval_XGB[FEATURES]\n",
    "y_val_XGB = eval_XGB[TARGET]\n",
    "\n"
   ]
  },
  {
   "cell_type": "code",
   "execution_count": null,
   "metadata": {},
   "outputs": [],
   "source": [
    "plot_price_split(train, eval, test, SPLIT_DATE_EVAL, SPLIT_DATE_TEST, \"outliers includuded\")\n",
    "plot_price_split(train_XGB, eval_XGB, test_XGB, SPLIT_DATE_EVAL_INTERVAL, SPLIT_DATE_TEST_INTERVAL, \"ex outliers\")"
   ]
  },
  {
   "cell_type": "markdown",
   "metadata": {},
   "source": [
    "## Prediction"
   ]
  },
  {
   "cell_type": "markdown",
   "metadata": {},
   "source": [
    "### Linear Regression"
   ]
  },
  {
   "cell_type": "code",
   "execution_count": 92,
   "metadata": {},
   "outputs": [],
   "source": [
    "lr_predictions  = linear_regression(X_train, y_train, X_test, y_test, scalar)\n",
    "lr_predictions_interval = linear_regression(X_train_XGB, y_train_XGB, X_test_XGB, y_test_XGB, scalar)"
   ]
  },
  {
   "cell_type": "markdown",
   "metadata": {},
   "source": [
    "### XGBoost"
   ]
  },
  {
   "cell_type": "code",
   "execution_count": null,
   "metadata": {},
   "outputs": [],
   "source": [
    "best_params = {\n",
    "    \"base_score\": 0.380924762889507,\n",
    "    \"early_stopping_rounds\": 215,\n",
    "    \"max_depth\": 80,\n",
    "    \"learning_rate\": 0.06,\n",
    "    \"n_estimators\": 150,\n",
    "    \"gamma\": 0.9,\n",
    "    \"min_child_weight\": 6,\n",
    "    \"subsample\": 0.5719023844219375,\n",
    "    \"colsample_bytree\": 0.8815691043681952,\n",
    "}\n",
    "xgb_y_predicted_mse, xgb_mse = predict_mse(best_params, X_train_XGB, y_train_XGB, X_val_XGB, y_val_XGB, X_test_XGB)\n",
    "xgb_y_predicted_mae, xgb_mae = predict_mae(best_params, X_train_XGB, y_train_XGB, X_val_XGB, y_val_XGB, X_test_XGB)\n"
   ]
  },
  {
   "cell_type": "markdown",
   "metadata": {},
   "source": [
    "### Prophet"
   ]
  },
  {
   "cell_type": "code",
   "execution_count": null,
   "metadata": {
    "ExecuteTime": {
     "end_time": "2025-01-28T18:01:06.181767Z",
     "start_time": "2025-01-28T18:00:12.357474Z"
    }
   },
   "outputs": [],
   "source": [
    "# Initialize Prophet model\n",
    "model = Prophet(\n",
    "    changepoint_prior_scale = 0.5,\n",
    "    seasonality_prior_scale = 1.0,\n",
    "    holidays_prior_scale = 1.0,\n",
    "    seasonality_mode= 'multiplicative'\n",
    ")\n",
    "\n",
    "#Add fourier order for weekly and monthly seasonality\n",
    "model.add_seasonality(name='weekly', period=7, fourier_order=20)\n",
    "model.add_seasonality(name='monthly', period=30.5, fourier_order=20)\n",
    "model.add_seasonality(name='yearly', period=365, fourier_order=20)\n",
    "\n",
    "# Add time-based regressors\n",
    "\n",
    "for feature in FEATURES:\n",
    "     model.add_regressor(feature)\n",
    "     \n",
    "train_data = train.rename(columns={\"Price\": \"y\"}).reset_index().rename(columns={\"index\": \"ds\"}).dropna()\n",
    "\n",
    "model.fit(train_data)\n",
    "\n",
    "test_data = test.reset_index().rename(columns={\"index\": \"ds\"}).dropna()\n",
    "test_data.drop(columns=[\"Price\"])\n",
    "prophet_predictions = model.predict(test_data)[\"yhat\"]\n"
   ]
  },
  {
   "cell_type": "markdown",
   "metadata": {},
   "source": [
    "## Results"
   ]
  },
  {
   "cell_type": "markdown",
   "metadata": {},
   "source": [
    "### Errors"
   ]
  },
  {
   "cell_type": "code",
   "execution_count": null,
   "metadata": {},
   "outputs": [],
   "source": [
    "for fet in FEATURES:\n",
    "    if fet in [ \"ma_3_hours_pumped_storage_generation\", \"ma_6_hours_pumped_storage_generation\",\"Biomass\",\"Hard Coal\",\"Hydro\",\"Lignite\",\"Natural Gas\",\"Nuclear\",\"Other\",\"Pumped storage generation\",\"Solar\",\"Wind offshore\",\"Wind onshore\"]:\n",
    "        print(fet) \n",
    "\n",
    "calculate_error_metrics(y_test, [lr_predictions, prophet_predictions, xgb_y_predicted_mse])"
   ]
  },
  {
   "cell_type": "markdown",
   "metadata": {},
   "source": [
    "### Plots"
   ]
  },
  {
   "cell_type": "code",
   "execution_count": null,
   "metadata": {},
   "outputs": [],
   "source": [
    "predictions = [(prophet_predictions, \"Prophet\", \"MSE\"), (xgb_y_predicted_mse, \"XGBoost\",\"MSE\"), (xgb_y_predicted_mae, \"XGBoost\",\"MAE\"), (lr_predictions, \"Linear Regression\",\"MSE\")]\n",
    "\n",
    "plot_predicted(y_test, predictions, prediction_date_picker.value)"
   ]
  },
  {
   "cell_type": "markdown",
   "metadata": {},
   "source": [
    "### XGBoost - Feature Importance"
   ]
  },
  {
   "cell_type": "code",
   "execution_count": null,
   "metadata": {},
   "outputs": [],
   "source": [
    "feature_importance(xgb_mse, \"MSE\")\n",
    "feature_importance(xgb_mae, \"MAE\")"
   ]
  }
 ],
 "metadata": {
  "kernelspec": {
   "display_name": "Python 3",
   "language": "python",
   "name": "python3"
  },
  "language_info": {
   "codemirror_mode": {
    "name": "ipython",
    "version": 3
   },
   "file_extension": ".py",
   "mimetype": "text/x-python",
   "name": "python",
   "nbconvert_exporter": "python",
   "pygments_lexer": "ipython3",
   "version": "3.9.6"
  }
 },
 "nbformat": 4,
 "nbformat_minor": 2
}
