{
 "cells": [
  {
   "cell_type": "markdown",
   "metadata": {},
   "source": [
    "## Configuration"
   ]
  },
  {
   "cell_type": "code",
   "execution_count": 2,
   "metadata": {},
   "outputs": [],
   "source": [
    "from src.widgets import get_config_widgets, select_features\n",
    "from src.dataset import get_merged_dataset, get_e_price_dataset, standardize_data, adjust_set_sizes"
   ]
  },
  {
   "cell_type": "code",
   "execution_count": 3,
   "metadata": {},
   "outputs": [],
   "source": [
    "import numpy as np"
   ]
  },
  {
   "cell_type": "code",
   "execution_count": 4,
   "metadata": {},
   "outputs": [
    {
     "data": {
      "application/vnd.jupyter.widget-view+json": {
       "model_id": "051a2e892ba649bc86bd66d1c382a8fa",
       "version_major": 2,
       "version_minor": 0
      },
      "text/plain": [
       "interactive(children=(FloatSlider(value=0.8, description='Train Set Size', max=0.9, step=0.01), FloatSlider(va…"
      ]
     },
     "metadata": {},
     "output_type": "display_data"
    },
    {
     "data": {
      "application/vnd.jupyter.widget-view+json": {
       "model_id": "625732602060473381e6acfa8266d33b",
       "version_major": 2,
       "version_minor": 0
      },
      "text/plain": [
       "IntRangeSlider(value=(-74, 222), continuous_update=False, description='Energy Price Interval', max=900, min=-4…"
      ]
     },
     "metadata": {},
     "output_type": "display_data"
    }
   ],
   "source": [
    "price_interval =  get_config_widgets()"
   ]
  },
  {
   "cell_type": "markdown",
   "metadata": {},
   "source": [
    "## Data loading"
   ]
  },
  {
   "cell_type": "code",
   "execution_count": 5,
   "metadata": {},
   "outputs": [],
   "source": [
    "merged_df = get_merged_dataset()\n",
    "e_price_df = get_e_price_dataset()\n",
    "\n",
    "min_price, max_price = price_interval.value\n",
    "\n",
    "merged_ex_out_df = merged_df.copy()[\n",
    "    (merged_df['Price'] >= min_price) &\n",
    "    (merged_df['Price'] <= max_price)\n",
    "]\n",
    "\n",
    "e_price_ex_out_df = merged_df.copy()[\n",
    "    (merged_df['Price'] >= min_price) &\n",
    "    (merged_df['Price'] <= max_price)\n",
    "]\n",
    "\n",
    "z_merged_df, z_actual_price_df, actual_price_scaler = standardize_data(merged_df.copy(), e_price_df.copy())\n",
    "z_merged_ex_out_df, z_actual_ex_out_price_df, actual_price_ex_out_scaler = standardize_data(merged_ex_out_df.copy(), e_price_ex_out_df.copy())\n",
    "\n"
   ]
  },
  {
   "cell_type": "markdown",
   "metadata": {},
   "source": [
    "## Feature Selection"
   ]
  },
  {
   "cell_type": "code",
   "execution_count": 11,
   "metadata": {},
   "outputs": [
    {
     "data": {
      "application/vnd.jupyter.widget-view+json": {
       "model_id": "98f9fed4a2374b32b29eac1e48149401",
       "version_major": 2,
       "version_minor": 0
      },
      "text/plain": [
       "VBox(children=(Checkbox(value=True, description='hour'), Checkbox(value=True, description='dayofyear'), Checkb…"
      ]
     },
     "metadata": {},
     "output_type": "display_data"
    },
    {
     "data": {
      "application/vnd.jupyter.widget-view+json": {
       "model_id": "2a2c066da12f4d16bc7f37d660ef3e55",
       "version_major": 2,
       "version_minor": 0
      },
      "text/plain": [
       "Button(description='Confirm Selection', style=ButtonStyle())"
      ]
     },
     "metadata": {},
     "output_type": "display_data"
    },
    {
     "name": "stdout",
     "output_type": "stream",
     "text": [
      "['hour', 'dayofyear', 'dayofweek', 'is_public_holiday', 'ma_3_hours', 'ma_6_hours', 'ma_1_days', 'ma_3_days', 'ma_7_days', 'Biomass', 'Hard Coal', 'Hydro', 'Lignite', 'Natural Gas', 'Nuclear', 'Other', 'Pumped storage generation', 'Solar', 'Wind offshore', 'Wind onshore', 'temperature_2m', 'precipitation', 'wind_speed_100m', 'irradiance']\n"
     ]
    }
   ],
   "source": [
    "features = select_features()\n",
    "print(features)"
   ]
  },
  {
   "cell_type": "code",
   "execution_count": 7,
   "metadata": {},
   "outputs": [
    {
     "ename": "NameError",
     "evalue": "name 'create_features' is not defined",
     "output_type": "error",
     "traceback": [
      "\u001b[0;31m---------------------------------------------------------------------------\u001b[0m",
      "\u001b[0;31mNameError\u001b[0m                                 Traceback (most recent call last)",
      "Cell \u001b[0;32mIn[7], line 1\u001b[0m\n\u001b[0;32m----> 1\u001b[0m features_df \u001b[38;5;241m=\u001b[39m \u001b[43mcreate_features\u001b[49m(merged_df)[FEATURES]\n\u001b[1;32m      3\u001b[0m TARGET \u001b[38;5;241m=\u001b[39m merged_df[\u001b[38;5;124m\"\u001b[39m\u001b[38;5;124mPrice\u001b[39m\u001b[38;5;124m\"\u001b[39m]\n\u001b[1;32m      4\u001b[0m combined_df\u001b[38;5;241m=\u001b[39mpd\u001b[38;5;241m.\u001b[39mconcat([features_df, TARGET], axis\u001b[38;5;241m=\u001b[39m\u001b[38;5;241m1\u001b[39m)\n",
      "\u001b[0;31mNameError\u001b[0m: name 'create_features' is not defined"
     ]
    }
   ],
   "source": [
    "features_df = create_features(merged_df)[FEATURES]\n",
    "\n",
    "TARGET = merged_df[\"Price\"]\n",
    "combined_df=pd.concat([features_df, TARGET], axis=1)\n",
    "\n",
    "train, eval, test, SPLIT_DATE_EVAL, SPLIT_DATE_TEST = split(combined_df, predict_last_day=LAST_DAY_TEST)"
   ]
  },
  {
   "cell_type": "code",
   "execution_count": null,
   "metadata": {},
   "outputs": [],
   "source": [
    "TARGET = \"Price\"\n",
    "\n",
    "X_train = train[FEATURES]\n",
    "y_train = train[TARGET]\n",
    "\n",
    "X_test = test[FEATURES]\n",
    "y_test = test[TARGET]\n",
    "\n",
    "X_val = eval[FEATURES]\n",
    "y_val = eval[TARGET]"
   ]
  },
  {
   "cell_type": "markdown",
   "metadata": {},
   "source": [
    "## Prediction"
   ]
  },
  {
   "cell_type": "code",
   "execution_count": null,
   "metadata": {},
   "outputs": [],
   "source": [
    "linear_regression(X_train, y_train, X_test, y_test)"
   ]
  },
  {
   "cell_type": "markdown",
   "metadata": {},
   "source": [
    "### Prophet"
   ]
  },
  {
   "cell_type": "markdown",
   "metadata": {},
   "source": [
    "### XGBoost"
   ]
  },
  {
   "cell_type": "code",
   "execution_count": null,
   "metadata": {},
   "outputs": [],
   "source": [
    "best_params = {\n",
    "    \"base_score\": 0.380924762889507,\n",
    "    \"early_stopping_rounds\": 215,\n",
    "    \"max_depth\": 80,\n",
    "    \"learning_rate\": 0.06,\n",
    "    \"n_estimators\": 150,\n",
    "    \"gamma\": 0.9,\n",
    "    \"min_child_weight\": 6,\n",
    "    \"subsample\": 0.5719023844219375,\n",
    "    \"colsample_bytree\": 0.8815691043681952,\n",
    "}\n",
    "y_predicted_mse, model_mse, fi_img_mse = predict_return_mse(best_params, X_train, y_train, X_val, y_val, X_test)\n",
    "y_predicted_mae, model_mae, fi_img_mae = predict_return_mae(best_params, X_train, y_train, X_val, y_val, X_test)"
   ]
  },
  {
   "cell_type": "code",
   "execution_count": null,
   "metadata": {},
   "outputs": [],
   "source": [
    "for objective in [y_predicted_mse,y_predicted_mae]:\n",
    "    plot_predicted(test, objective)\n",
    "\n",
    "buf = io.BytesIO()\n",
    "plt.savefig(buf, format='png')\n",
    "plt.show()\n",
    "plt.close()\n",
    "buf.seek(0)\n",
    "\n",
    "ts_image = Image.open(buf)"
   ]
  },
  {
   "cell_type": "markdown",
   "metadata": {},
   "source": [
    "## Results"
   ]
  }
 ],
 "metadata": {
  "kernelspec": {
   "display_name": "Python 3",
   "language": "python",
   "name": "python3"
  },
  "language_info": {
   "codemirror_mode": {
    "name": "ipython",
    "version": 3
   },
   "file_extension": ".py",
   "mimetype": "text/x-python",
   "name": "python",
   "nbconvert_exporter": "python",
   "pygments_lexer": "ipython3",
   "version": "3.9.6"
  }
 },
 "nbformat": 4,
 "nbformat_minor": 2
}
