{
 "cells": [
  {
   "cell_type": "markdown",
   "metadata": {},
   "source": [
    "## Configuration"
   ]
  },
  {
   "cell_type": "code",
   "execution_count": 1,
   "metadata": {},
   "outputs": [],
   "source": [
    "from src.data_loading import get_merged_dataset, get_e_price_dataset, standardize_data, adjust_set_sizes"
   ]
  },
  {
   "cell_type": "code",
   "execution_count": 2,
   "metadata": {},
   "outputs": [],
   "source": [
    "import ipywidgets as widgets\n",
    "from IPython.display import display\n",
    "from ipywidgets import interact\n",
    "import numpy as np"
   ]
  },
  {
   "cell_type": "code",
   "execution_count": 3,
   "metadata": {},
   "outputs": [
    {
     "data": {
      "application/vnd.jupyter.widget-view+json": {
       "model_id": "2cc7b0ff049c4de29d295a841c442ada",
       "version_major": 2,
       "version_minor": 0
      },
      "text/plain": [
       "interactive(children=(FloatSlider(value=0.8, description='Train Set Size', max=0.9, step=0.01), FloatSlider(va…"
      ]
     },
     "metadata": {},
     "output_type": "display_data"
    },
    {
     "data": {
      "application/vnd.jupyter.widget-view+json": {
       "model_id": "98401040be824bc0b263cec223a631ef",
       "version_major": 2,
       "version_minor": 0
      },
      "text/plain": [
       "Checkbox(value=False, description='Standardize Data')"
      ]
     },
     "metadata": {},
     "output_type": "display_data"
    },
    {
     "data": {
      "application/vnd.jupyter.widget-view+json": {
       "model_id": "67995c1e96824b90bac36ac4aab76f51",
       "version_major": 2,
       "version_minor": 0
      },
      "text/plain": [
       "IntRangeSlider(value=(-74, 222), continuous_update=False, description='Energy Price Interval', max=900, min=-4…"
      ]
     },
     "metadata": {},
     "output_type": "display_data"
    }
   ],
   "source": [
    "standardize_check = widgets.Checkbox(value=False, description='Standardize Data')\n",
    "price_interval_ex_outliers_slider = widgets.IntRangeSlider(\n",
    "    value=[-74.44, 222.01],  # Default range [min, max]\n",
    "    min=-400,           # Minimum value\n",
    "    max=900,         # Maximum value\n",
    "    step=1,          # Step size\n",
    "    description='Energy Price Interval',\n",
    "    continuous_update=False  # Update only when sliding stops\n",
    ")\n",
    "\n",
    "# Create interactive widget\n",
    "interact(adjust_set_sizes, \n",
    "         train=widgets.FloatSlider(min=0, max=0.9, step=0.01, value=0.8, description='Train Set Size'), \n",
    "         val=widgets.FloatSlider(min=0, max=0.2, step=0.01, value=0.05, description='Evaluation Set Size'),\n",
    "         test=widgets.FloatSlider(min=0, max=0.2, step=0.01, value=0.15, description='Test Set Size'));\n",
    "\n",
    "display(standardize_check, price_interval_ex_outliers_slider)\n"
   ]
  },
  {
   "cell_type": "markdown",
   "metadata": {},
   "source": [
    "## Data loading"
   ]
  },
  {
   "cell_type": "code",
   "execution_count": 5,
   "metadata": {},
   "outputs": [],
   "source": [
    "merged_df = get_merged_dataset()\n",
    "e_price_df = get_e_price_dataset()\n",
    "\n",
    "min_price, max_price = price_interval_ex_outliers_slider.value\n",
    "\n",
    "merged_ex_out_df = merged_df.copy()[\n",
    "    (merged_df['Price'] >= min_price) &\n",
    "    (merged_df['Price'] <= max_price)\n",
    "]\n",
    "\n",
    "e_price_ex_out_df = merged_df.copy()[\n",
    "    (merged_df['Price'] >= min_price) &\n",
    "    (merged_df['Price'] <= max_price)\n",
    "]\n",
    "\n",
    "z_merged_df, z_actual_price_df, actual_price_scaler = standardize_data(merged_df.copy(), e_price_df.copy())\n",
    "z_merged_ex_out_df, z_actual_ex_out_price_df, actual_price_ex_out_scaler = standardize_data(merged_ex_out_df.copy(), e_price_ex_out_df.copy())\n",
    "\n"
   ]
  },
  {
   "cell_type": "markdown",
   "metadata": {},
   "source": [
    "## Feature Selection"
   ]
  },
  {
   "cell_type": "markdown",
   "metadata": {},
   "source": [
    "## Prediction"
   ]
  },
  {
   "cell_type": "markdown",
   "metadata": {},
   "source": [
    "### Prophet"
   ]
  },
  {
   "cell_type": "markdown",
   "metadata": {},
   "source": [
    "### XGBoost"
   ]
  },
  {
   "cell_type": "markdown",
   "metadata": {},
   "source": [
    "## Results"
   ]
  }
 ],
 "metadata": {
  "kernelspec": {
   "display_name": "Python 3",
   "language": "python",
   "name": "python3"
  },
  "language_info": {
   "codemirror_mode": {
    "name": "ipython",
    "version": 3
   },
   "file_extension": ".py",
   "mimetype": "text/x-python",
   "name": "python",
   "nbconvert_exporter": "python",
   "pygments_lexer": "ipython3",
   "version": "3.9.6"
  }
 },
 "nbformat": 4,
 "nbformat_minor": 2
}
